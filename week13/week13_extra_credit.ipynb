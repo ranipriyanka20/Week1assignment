{
  "cells": [
    {
      "cell_type": "markdown",
      "metadata": {
        "id": "view-in-github",
        "colab_type": "text"
      },
      "source": [
        "<a href=\"https://colab.research.google.com/github/ranipriyanka20/hds5210-2023/blob/main/week13/week13_extra_credit.ipynb\" target=\"_parent\"><img src=\"https://colab.research.google.com/assets/colab-badge.svg\" alt=\"Open In Colab\"/></a>"
      ]
    },
    {
      "cell_type": "markdown",
      "metadata": {
        "id": "If6rH4klatA5"
      },
      "source": [
        "# Week 13 Extra Credit - How will ChatGPT do on your final project idea?\n",
        "\n",
        "This extra credit assignment is entirely optional.  You do not need to do it.\n",
        "\n",
        "If you would like the opportunity to earn up to 5 extra credit points, complete this assignment and submit it via GitHub as normal before Monday, November 27 at 11:59 PM CST.  No late submissions will be accepted.  The file must be saved to your week13 folder in GitHub."
      ]
    },
    {
      "cell_type": "markdown",
      "metadata": {
        "id": "eOgfAGV5atA-"
      },
      "source": [
        "## Part 1: Have a conversation with ChatGPT\n",
        "\n",
        "I want you to have a conversation with ChatGPT about your final project idea.  Find out what it thinks about your idea and if it has any data sources (URLs for specific sites) that could be helpful.  Below, either include copy/paste the chat history from your conversation or include a link to the shared chat.  (ChatGPT has an [option to share a link to a specific conversation](https://help.openai.com/en/articles/7925741-chatgpt-shared-links-faq).  It's the up-arrow icon in the upper-right corner of your chat window.)\n",
        "\n",
        "Take this conversationw with ChatGPT as far as you want, but at least ask three or four follow-up questions to refine the information you're getting back.\n",
        "\n",
        "If it starts giving you links to information, don't assume they're going to work. Remember that ChatGPT isn't perfect. So, follow the links and make sure there's information there that matches what ChatGPT says you will find."
      ]
    },
    {
      "cell_type": "markdown",
      "metadata": {
        "id": "CVoYy-tDatA_"
      },
      "source": [
        "**RESPONSE**\n",
        "\n",
        "https://chat.openai.com/share/ad8a0d07-4a06-4ae4-b36b-0ec4bd086a6d\n"
      ]
    },
    {
      "cell_type": "markdown",
      "metadata": {
        "id": "9B0dDRNPatA_"
      },
      "source": [
        "### Part 2: Your reflection\n",
        "\n",
        "Below, tell me what you think ChatGPT did well or not well in your conversation.  Was it good at finding data that you needed?  Was it good at finding actual links that worked?  Did its responses make sense to you?  What did it do well / not well?\n",
        "\n",
        "Your response below should be several sentences.  If you don't have enough feedback, expand your conversation with ChatGPT.  Ask it refine your project idea or start writing code for you.  See what it can do."
      ]
    },
    {
      "cell_type": "markdown",
      "metadata": {
        "id": "yicl9-o3atBA"
      },
      "source": [
        "**RESPONSE**\n",
        "\n",
        "As a result of GPT chat, what is sown will be reaped\n",
        "On the other hand, GPT chat can also be used for good. For example, it can be used to have meaningful conversations with people who are unable to talk due to disabilities. It can also be used to help people with mental health issues by providing them with a safe space to talk. Overall, GPT chat can be a powerful tool for both helping and connecting with others."
      ]
    },
    {
      "cell_type": "markdown",
      "metadata": {
        "id": "wkayf5OAatBA"
      },
      "source": [
        "### Submitting\n",
        "\n",
        "Submit this as normal to GitHub with the name `wee13/week13_extra_credit.ipynb`"
      ]
    },
    {
      "cell_type": "markdown",
      "metadata": {
        "id": "q3lRAWvgatBB"
      },
      "source": []
    }
  ],
  "metadata": {
    "language_info": {
      "name": "python"
    },
    "colab": {
      "provenance": [],
      "include_colab_link": true
    }
  },
  "nbformat": 4,
  "nbformat_minor": 0
}