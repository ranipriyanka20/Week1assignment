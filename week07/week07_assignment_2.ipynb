{
  "cells": [
    {
      "cell_type": "markdown",
      "metadata": {
        "id": "UgrCkPmVXrHk"
      },
      "source": [
        "# Week 7 Assignment\n",
        "\n",
        "We've been working with different types of data structures in Python (dictionary, list, etc), how those are represented in JSON documents, and how to write code to access specific data elements. In this week's assignment, you will need to create your own JSON document to store information about yourself and the grades you've received from week 1 to week 4 and the week 6 quiz.  That is, everything you should have received a grade for.  Then you'll need to show me you know how to navigate the JSON in that file.\n",
        "\n",
        "Different from what we've done in the past, you do not have to write any functions or include any docstrings.  Just create some JSON and write some code.\n",
        "\n",
        "---"
      ]
    },
    {
      "cell_type": "markdown",
      "metadata": {
        "id": "WdJ69MwiXrHo"
      },
      "source": [
        "## 7.1 Create a JSON string\n",
        "\n",
        "Create a JSON string that contains your name, email, year you were born, all of the grades you've received back so far, and a comment about what you thought was most challenging on each of those assignments.  This can be any structure you choose, but make sure it uses a dictionary and a list, and has at least two levels of hierarchy.  That is, it can't just be one big long list."
      ]
    },
    {
      "cell_type": "markdown",
      "metadata": {
        "id": "PUtUpBilXrHp"
      },
      "source": [
        "First, explain how your data structure is going to look..."
      ]
    },
    {
      "cell_type": "markdown",
      "metadata": {
        "id": "tZkv2n-2XrHp"
      },
      "source": [
        "* Put your explanation here in text..."
      ]
    },
    {
      "cell_type": "markdown",
      "metadata": {
        "id": "OxZcPep-XrHq"
      },
      "source": [
        "Then put the actual JSON you've created inside the multiline string below..."
      ]
    },
    {
      "cell_type": "code",
      "execution_count": 2,
      "metadata": {
        "id": "_Si3lPw6XrHq"
      },
      "outputs": [],
      "source": [
        "hds5210 = \"\"\"\n",
        "# Remove this comment and put your JSON here...\n",
        "\"\"\"\n",
        "import json\n",
        "\n",
        "# Define the JSON data\n",
        "hds5210 = {\n",
        "    \"Name\": \"Rani Priyanka Katam\",\n",
        "    \"Email_Id\": \"ranipriyankakatam@slu.edu\",\n",
        "    \"Birth_Year\": \"2000\",\n",
        "    \"Grades\": {\n",
        "        \"Assignment\": {\n",
        "            \"Week 1\": {\n",
        "                \"Topic\": \"GitHub\",\n",
        "                \"Score\": \"10\",\n",
        "                \"challenge\": \"As I am from a non-IT background, it took me time to adapt to GitHub\"\n",
        "            },\n",
        "            \"Week 2\": {\n",
        "                \"Topic\": \"Functions in Python\",\n",
        "                \"Score\": \"9\",\n",
        "                \"challenge\": \"Being a beginner in Python initially, I faced difficulty in defining Functions\"\n",
        "            },\n",
        "            \"Week 3\": {\n",
        "                \"Topic\": \"Lace Score\",\n",
        "                \"Score\": \"6\",\n",
        "                \"challenge\": \"Quite tricky while writing the codes using LACE score\"\n",
        "            },\n",
        "            \"Week 4\": {\n",
        "                \"Topic\": \"Dictionary and List\",\n",
        "                \"Score\": \"8\",\n",
        "                \"challenge\": \"Faced difficulty in converting multiple dictionaries into a list\"\n",
        "            }\n",
        "        },\n",
        "        \"Quiz\": {\n",
        "            \"Week 6\": {\n",
        "                \"Quiz\": \"Map Test\",\n",
        "                \"Score\": \"6\",\n",
        "                \"challenge\": \"Completing the Map Test in 15 minutes was a quite challenging task\"\n",
        "            }\n",
        "        }\n",
        "    }\n",
        "}"
      ]
    },
    {
      "cell_type": "markdown",
      "metadata": {
        "id": "WfN-MN1lXrHs"
      },
      "source": [
        "## 7.2 Do something with your JSON\n",
        "\n",
        "Now use Python code to do something with the Json above.  Turn it into English text, but make sure that you use at least one loop to access some dict or list content of your JSON.  Below, I've provided some basic code to read in the string above as JSON and return a Python object.  Your job is to work with that data structure and print out the important information like your name, email, and how you did on each assignment."
      ]
    },
    {
      "cell_type": "code",
      "execution_count": 3,
      "metadata": {
        "id": "6rKK3gK9XrHt",
        "outputId": "67ed9e9f-8268-4a52-e98d-ca98d470e44c",
        "colab": {
          "base_uri": "https://localhost:8080/"
        }
      },
      "outputs": [
        {
          "output_type": "stream",
          "name": "stdout",
          "text": [
            "My name is: Rani Priyanka Katam. My SLU mail id is: ranipriyankakatam@slu.edu, Born in the year of 2000 \n",
            "\n",
            "Coming to my Assignment Details:\n",
            "My Week 1 assignment marks is 10 on topic GitHub \n",
            "  Challenge: As I am from a non-IT background, it took me time to adapt to GitHub\n",
            "\n",
            "My Week 2 assignment marks is 9 on topic Functions in Python \n",
            "  Challenge: Being a beginner in Python initially, I faced difficulty in defining Functions\n",
            "\n",
            "My Week 3 assignment marks is 6 on topic Lace Score \n",
            "  Challenge: Quite tricky while writing the codes using LACE score\n",
            "\n",
            "My Week 4 assignment marks is 8 on topic Dictionary and List \n",
            "  Challenge: Faced difficulty in converting multiple dictionaries into a list\n",
            "\n",
            "Quiz:\n",
            "  Topic: Quiz on Map Test, in which I scored 6 \n",
            "  Challenge: Completing the Map Test in 15 minutes was a quite challenging task\n"
          ]
        }
      ],
      "source": [
        "# Import the 'json' module for working with JSON data\n",
        "import json\n",
        "\n",
        "# Define a variable 'data' which seems to represent some data in JSON format, but it's not initialized with any value.\n",
        "data = hds5210\n",
        "\n",
        "# Output a formatted string with 'Name', 'Email_Id', and 'Birth_Year' from the 'data' dictionary\n",
        "print(f\"My name is: {data['Name']}. My SLU mail id is: {data['Email_Id']}, Born in the year of {data['Birth_Year']} \")\n",
        "\n",
        "# Output a message indicating the beginning of assignment details\n",
        "print(\"\\nComing to my Assignment Details:\")\n",
        "\n",
        "# Iterate through the 'Assignment' items in the 'Grades' dictionary within 'data'\n",
        "for week, info in data[\"Grades\"][\"Assignment\"].items():\n",
        "    # Output assignment information, including week, score, topic, and challenge\n",
        "    print(f\"My {week} assignment marks is {info['Score']} on topic {info['Topic']} \")\n",
        "    print(f\"  Challenge: {info['challenge']}\\n\")\n",
        "\n",
        "# Output a message indicating that quiz information is being printed\n",
        "print(\"Quiz:\")\n",
        "\n",
        "# Access quiz information for 'Week 6' from the 'Quiz' dictionary within 'data'\n",
        "quiz_info = data[\"Grades\"][\"Quiz\"][\"Week 6\"]\n",
        "\n",
        "# Output quiz information, including the topic, score, and challenge\n",
        "print(f\"  Topic: Quiz on {quiz_info['Quiz']}, in which I scored {quiz_info['Score']} \")\n",
        "print(f\"  Challenge: {quiz_info['challenge']}\")\n"
      ]
    },
    {
      "cell_type": "markdown",
      "metadata": {
        "id": "FJa_AjuGXrHu"
      },
      "source": [
        "## 7.3 Reflect\n",
        "\n",
        "Write a paragraph on any reflections you have. Was this hard? Easy?  What parts were most challenging or easiest? What did you like or dislike about the assignment?  Share whatever important thoughts you have abou this assignment."
      ]
    },
    {
      "cell_type": "markdown",
      "metadata": {
        "id": "nSE6n15XXrHu"
      },
      "source": [
        "JSON files creation was a bit difficult task. For the creation of the strings in the dictionary for the JSON string took a while for me to create the codes and understanding the functionality and the with the hierarchy levels of the dictionaries which needs more practice for me to get familiar with the topic, import the concepts of both the dictionaries and the JSON strings needed more practice to perfrom in a short period.\n",
        "\n"
      ]
    },
    {
      "cell_type": "markdown",
      "metadata": {
        "id": "yilsw8koXrHv"
      },
      "source": [
        "---\n",
        "\n",
        "# Example\n",
        "\n",
        "Below is an example of something similar, but this uses information my and my friend's kids instead of grades."
      ]
    },
    {
      "cell_type": "code",
      "execution_count": null,
      "metadata": {
        "id": "eLD5EbRnXrHv",
        "outputId": "e50a0dec-1b40-49e0-b6aa-615097fb0280"
      },
      "outputs": [
        {
          "name": "stdout",
          "output_type": "stream",
          "text": [
            "Hi, my name is Paul. I've got 3 kids. Their names are Ellie, Ada, Teddy.\n",
            "My friend, Anny has 1 kids. That's fewer than me. Their names are 1\n"
          ]
        }
      ],
      "source": [
        "hds5210 = \"\"\"\n",
        "{\n",
        "    \"me\": {\n",
        "        \"name\": \"Paul\",\n",
        "        \"kids\": [\"Ellie\", \"Ada\", \"Teddy\"]\n",
        "    },\n",
        "    \"friend\": {\n",
        "        \"name\": \"Anny\",\n",
        "        \"kids\": [\"Abby\"]\n",
        "    }\n",
        "}\n",
        "\"\"\"\n",
        "\n",
        "import json\n",
        "\n",
        "info = json.loads(hds5210)\n",
        "\n",
        "me = info[\"me\"][\"name\"]\n",
        "my_kids_count = len(info[\"me\"][\"kids\"])\n",
        "kids_list = \", \".join(info[\"me\"][\"kids\"])\n",
        "friend = info[\"friend\"][\"name\"]\n",
        "friends_kid_count = len(info[\"friend\"][\"kids\"])\n",
        "friend_kids = \", \".join(info[\"friend\"][\"kids\"])\n",
        "compare = \"more\" if friends_kid_count > my_kids_count else \"fewer\"\n",
        "\n",
        "print(f\"Hi, my name is {me}. I've got {my_kids_count} kids. Their names are {kids_list}.\")\n",
        "print(f\"My friend, {friend} has {friends_kid_count} kids. That's {compare} than me. Their names are {friends_kid_count}\")"
      ]
    }
  ],
  "metadata": {
    "kernelspec": {
      "display_name": "Python 3",
      "language": "python",
      "name": "python3"
    },
    "language_info": {
      "codemirror_mode": {
        "name": "ipython",
        "version": 3
      },
      "file_extension": ".py",
      "mimetype": "text/x-python",
      "name": "python",
      "nbconvert_exporter": "python",
      "pygments_lexer": "ipython3",
      "version": "3.9.16"
    },
    "colab": {
      "provenance": []
    }
  },
  "nbformat": 4,
  "nbformat_minor": 0
}