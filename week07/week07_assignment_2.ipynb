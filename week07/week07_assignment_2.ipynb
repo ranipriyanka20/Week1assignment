{
  "cells": [
    {
      "cell_type": "markdown",
      "metadata": {
        "id": "lgXMJQwyy6Ze"
      },
      "source": [
        "# Week 7 Assignment\n",
        "\n",
        "We've been working with different types of data structures in Python (dictionary, list, etc), how those are represented in JSON documents, and how to write code to access specific data elements. In this week's assignment, you will need to create your own JSON document to store information about yourself and the grades you've received from week 1 to week 4 and the week 6 quiz.  That is, everything you should have received a grade for.  Then you'll need to show me you know how to navigate the JSON in that file.\n",
        "\n",
        "Different from what we've done in the past, you do not have to write any functions or include any docstrings.  Just create some JSON and write some code.\n",
        "\n",
        "---"
      ]
    },
    {
      "cell_type": "markdown",
      "metadata": {
        "id": "z7zBam96y6Zf"
      },
      "source": [
        "## 7.1 Create a JSON string\n",
        "\n",
        "Create a JSON string that contains your name, email, year you were born, all of the grades you've received back so far, and a comment about what you thought was most challenging on each of those assignments.  This can be any structure you choose, but make sure it uses a dictionary and a list, and has at least two levels of hierarchy.  That is, it can't just be one big long list."
      ]
    },
    {
      "cell_type": "markdown",
      "metadata": {
        "id": "qdAYnKcNy6Zf"
      },
      "source": [
        "First, explain how your data structure is going to look..."
      ]
    },
    {
      "cell_type": "markdown",
      "metadata": {
        "id": "p5iU-KHwy6Zg"
      },
      "source": [
        "* Put your explanation here in text..."
      ]
    },
    {
      "cell_type": "markdown",
      "metadata": {
        "id": "vK8fUj1Ky6Zg"
      },
      "source": [
        "Then put the actual JSON you've created inside the multiline string below..."
      ]
    },
    {
      "cell_type": "code",
      "execution_count": 75,
      "metadata": {
        "id": "eoDANFIGy6Zg"
      },
      "outputs": [],
      "source": [
        "hds5210 = \"\"\"\n",
        "# Remove this comment and put your JSON here...\n",
        "\"\"\"\n",
        "import json\n",
        "\n",
        "# Define the JSON data\n",
        "hds5210 = {\n",
        "    \"Name\": \"Rani Priyanka Katam\",\n",
        "    \"Email_Id\": \"ranipriyankakatam@slu.edu\",\n",
        "    \"Birth_Year\": \"2000\",\n",
        "    \"Grades\": {\n",
        "        \"Assignment\": {\n",
        "            \"Week 1\": {\n",
        "                \"Topic\": \"GitHub\",\n",
        "                \"Score\": \"10\",\n",
        "                \"challenge\": \"As I am from a non-IT background, it took me time to adapt to GitHub\"\n",
        "            },\n",
        "            \"Week 2\": {\n",
        "                \"Topic\": \"Functions in Python\",\n",
        "                \"Score\": \"9\",\n",
        "                \"challenge\": \"Being a beginner in Python initially, I faced difficulty in defining Functions\"\n",
        "            },\n",
        "            \"Week 3\": {\n",
        "                \"Topic\": \"Lace Score\",\n",
        "                \"Score\": \"6\",\n",
        "                \"challenge\": \"Quite tricky while writing the codes using LACE score\"\n",
        "            },\n",
        "            \"Week 4\": {\n",
        "                \"Topic\": \"Dictionary and List\",\n",
        "                \"Score\": \"8\",\n",
        "                \"challenge\": \"Faced difficulty in converting multiple dictionaries into a list\"\n",
        "            }\n",
        "        },\n",
        "        \"Quiz\": {\n",
        "            \"Week 6\": {\n",
        "                \"Quiz\": \"Map Test\",\n",
        "                \"Score\": \"6\",\n",
        "                \"challenge\": \"Completing the Map Test in 15 minutes was a quite challenging task\"\n",
        "            }\n",
        "        }\n",
        "    }\n",
        "}"
      ]
    },
    {
      "cell_type": "markdown",
      "metadata": {
        "id": "qUOZ-5oyy6Zg"
      },
      "source": [
        "## 7.2 Do something with your JSON\n",
        "\n",
        "Now use Python code to do something with the Json above.  Turn it into English text, but make sure that you use at least one loop to access some dict or list content of your JSON.  Below, I've provided some basic code to read in the string above as JSON and return a Python object.  Your job is to work with that data structure and print out the important information like your name, email, and how you did on each assignment."
      ]
    },
    {
      "cell_type": "code",
      "execution_count": 86,
      "metadata": {
        "id": "9xAhx5O7y6Zg",
        "outputId": "1aa2ef39-7d50-494f-d230-7dbb75f2eeed",
        "colab": {
          "base_uri": "https://localhost:8080/"
        }
      },
      "outputs": [
        {
          "output_type": "stream",
          "name": "stdout",
          "text": [
            "My name is: Rani Priyanka Katam. My SLU mail id is: ranipriyankakatam@slu.edu, Born in the year of 2000 \n",
            "\n",
            "Coming to my Assignment Details:\n",
            "My Week 1 assignement marks is 10 on topic GitHub \n",
            "  Challenge: As I am from a non-IT background, it took me time to adapt to GitHub\n",
            "\n",
            "My Week 2 assignement marks is 9 on topic Functions in Python \n",
            "  Challenge: Being a beginner in Python initially, I faced difficulty in defining Functions\n",
            "\n",
            "My Week 3 assignement marks is 6 on topic Lace Score \n",
            "  Challenge: Quite tricky while writing the codes using LACE score\n",
            "\n",
            "My Week 4 assignement marks is 8 on topic Dictionary and List \n",
            "  Challenge: Faced difficulty in converting multiple dictionaries into a list\n",
            "\n",
            "Quiz:\n",
            "  Topic : Quiz on Map Test , in which i scored 6 \n",
            "  Challenge: Completing the Map Test in 15 minutes was a quite challenging task\n"
          ]
        }
      ],
      "source": [
        "import json\n",
        "data = hds5210\n",
        "\n",
        "print(f\"My name is: {data['Name']}. My SLU mail id is: {data['Email_Id']}, Born in the year of {data['Birth_Year']} \")\n",
        "\n",
        "print(\"\\nComing to my Assignment Details:\")\n",
        "for week, info in data[\"Grades\"][\"Assignment\"].items():\n",
        "    print(f\"My {week} assignement marks is {info['Score']} on topic {info['Topic']} \")\n",
        "    print(f\"  Challenge: {info['challenge']}\\n\")\n",
        "\n",
        "# Printing the  Map Test Quiz Score and  challenge\n",
        "quiz_info = data[\"Grades\"][\"Quiz\"][\"Week 6\"]\n",
        "print(\"Quiz:\")\n",
        "print(f\"  Topic : Quiz on {quiz_info['Quiz']} , in which i scored {quiz_info['Score']} \")\n",
        "print(f\"  Challenge: {quiz_info['challenge']}\")"
      ]
    },
    {
      "cell_type": "markdown",
      "metadata": {
        "id": "-wpYztX4y6Zh"
      },
      "source": [
        "## 7.3 Reflect\n",
        "\n",
        "Write a paragraph on any reflections you have. Was this hard? Easy?  What parts were most challenging or easiest? What did you like or dislike about the assignment?  Share whatever important thoughts you have abou this assignment."
      ]
    },
    {
      "cell_type": "markdown",
      "metadata": {
        "id": "3S1Wp5RSy6Zh"
      },
      "source": [
        "JSON files creation was a bit difficult task. For the creation of the strings in the dictionary for the JSON string took a while for me to create the codes and understanding the functionality and the with the hierarchy levels of the dictionaries which needs more practice for me to get familiar with the topic, import the concepts of both the dictionaries and the JSON strings needed more practice to perfrom in a short period."
      ]
    },
    {
      "cell_type": "markdown",
      "metadata": {
        "id": "x_pGOcdJy6Zh"
      },
      "source": [
        "---\n",
        "\n",
        "# Example\n",
        "\n",
        "Below is an example of something similar, but this uses information my and my friend's kids instead of grades."
      ]
    },
    {
      "cell_type": "code",
      "execution_count": null,
      "metadata": {
        "id": "lmwFzqLMy6Zh",
        "outputId": "188b9772-0eb2-4f23-8c94-34cfa193521f"
      },
      "outputs": [
        {
          "name": "stdout",
          "output_type": "stream",
          "text": [
            "Hi, my name is Paul. I've got 3 kids. Their names are Ellie, Ada, Teddy.\n",
            "My friend, Anny has 1 kids. That's fewer than me. Their names are 1\n"
          ]
        }
      ],
      "source": [
        "hds5210 = \"\"\"\n",
        "{\n",
        "    \"me\": {\n",
        "        \"name\": \"Paul\",\n",
        "        \"kids\": [\"Ellie\", \"Ada\", \"Teddy\"]\n",
        "    },\n",
        "    \"friend\": {\n",
        "        \"name\": \"Anny\",\n",
        "        \"kids\": [\"Abby\"]\n",
        "    }\n",
        "}\n",
        "\"\"\"\n",
        "\n",
        "import json\n",
        "\n",
        "info = json.loads(hds5210)\n",
        "\n",
        "me = info[\"me\"][\"name\"]\n",
        "my_kids_count = len(info[\"me\"][\"kids\"])\n",
        "kids_list = \", \".join(info[\"me\"][\"kids\"])\n",
        "friend = info[\"friend\"][\"name\"]\n",
        "friends_kid_count = len(info[\"friend\"][\"kids\"])\n",
        "friend_kids = \", \".join(info[\"friend\"][\"kids\"])\n",
        "compare = \"more\" if friends_kid_count > my_kids_count else \"fewer\"\n",
        "\n",
        "print(f\"Hi, my name is {me}. I've got {my_kids_count} kids. Their names are {kids_list}.\")\n",
        "print(f\"My friend, {friend} has {friends_kid_count} kids. That's {compare} than me. Their names are {friends_kid_count}\")"
      ]
    }
  ],
  "metadata": {
    "kernelspec": {
      "display_name": "Python 3",
      "language": "python",
      "name": "python3"
    },
    "language_info": {
      "codemirror_mode": {
        "name": "ipython",
        "version": 3
      },
      "file_extension": ".py",
      "mimetype": "text/x-python",
      "name": "python",
      "nbconvert_exporter": "python",
      "pygments_lexer": "ipython3",
      "version": "3.9.16"
    },
    "colab": {
      "provenance": []
    }
  },
  "nbformat": 4,
  "nbformat_minor": 0
}