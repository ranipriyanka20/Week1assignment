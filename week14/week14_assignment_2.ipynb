{
  "cells": [
    {
      "cell_type": "markdown",
      "metadata": {
        "id": "view-in-github",
        "colab_type": "text"
      },
      "source": [
        "<a href=\"https://colab.research.google.com/github/ranipriyanka20/hds5210-2023/blob/main/week14/week14_assignment_2.ipynb\" target=\"_parent\"><img src=\"https://colab.research.google.com/assets/colab-badge.svg\" alt=\"Open In Colab\"/></a>"
      ]
    },
    {
      "cell_type": "markdown",
      "metadata": {
        "nbgrader": {
          "grade": false,
          "grade_id": "intro",
          "locked": true,
          "schema_version": 1,
          "solution": false
        },
        "id": "4bQ28GqWAwpe"
      },
      "source": [
        "# Working with multiple data sets\n",
        "\n",
        "There are two data files that we'll be working with for this week's assignment.  They are described below.  Load those data files in with Pandas and then work to answering each of the questions below.  All of these files are found in our usual s3 bucket: `https://hds5210-data.s3.amazonaws.com`\n",
        "\n",
        "## npidata.csv\n",
        "\n",
        "This file is basic information about every healthcare provider in the US.  It has one row for each NPI (National Provider Identifier).  It contains information such as the provider's name and address.\n",
        "\n",
        "* https://hds5210-data.s3.amazonaws.com/npidata.csv\n",
        "\n",
        "\n",
        "## cmsYYYY.csv\n",
        "\n",
        "These are files about what kinds of procedures and patients providers in the US are serving under CMS programs, Medicare and Medicaid.  Each contains various statistics about providers over the course of a year.  There are three of these, for the years 2014, 2015, and 2016.  These files, however, don't contain information about the provider such as where the provider is located.\n",
        "\n",
        "* https://hds5210-data.s3.amazonaws.com/cms2014.csv\n",
        "* https://hds5210-data.s3.amazonaws.com/cms2015.csv\n",
        "* https://hds5210-data.s3.amazonaws.com/cms2016.csv\n",
        "\n",
        "## Our Goals\n",
        "\n",
        "For this assignment, we're going to want to compute some statistics based on the data in the **cms** files, but aggregate that data based on information in the **npidata** file.  As in last week's assignment, you'll need to store your answers in a variable called `answer` at the end of each step."
      ]
    },
    {
      "cell_type": "code",
      "execution_count": 1,
      "metadata": {
        "nbgrader": {
          "grade": false,
          "grade_id": "import",
          "locked": true,
          "schema_version": 1,
          "solution": false
        },
        "id": "B2WNtqb1Awpg"
      },
      "outputs": [],
      "source": [
        "import pandas as pd"
      ]
    },
    {
      "cell_type": "markdown",
      "metadata": {
        "nbgrader": {
          "grade": false,
          "grade_id": "01-intro",
          "locked": true,
          "schema_version": 1,
          "solution": false
        },
        "id": "sudfMt65Awpg"
      },
      "source": [
        "## Part 1\n",
        "\n",
        "In this first step, we'll need to merge together all of the **cms** files into a single dataframe.  Be careful that these files might not be identical, so you'll have to look a little bit to figure out how to merge them.\n",
        "\n",
        "As you are merging them, make sure that you retain information about which file (i.e. which year) the data came from.  Call that new columns `year`.\n",
        "\n",
        "In your `answer` variable, provide a complete data frame that contains all of the rows and columns from the **cms** files, plus an additional column to store the year/file that particular row came from.\n",
        "\n",
        "The assertion tests will give you a good idea as to if you're merging the files correctly."
      ]
    },
    {
      "cell_type": "code",
      "execution_count": 36,
      "metadata": {
        "nbgrader": {
          "grade": false,
          "grade_id": "01-solution",
          "locked": false,
          "schema_version": 1,
          "solution": true
        },
        "id": "NZgoS86eAwpg"
      },
      "outputs": [],
      "source": [
        "answer = None\n",
        "\n",
        "### SOLUTION\n",
        "\n",
        "# Load cms files for the years 2014, 2015, and 2016\n",
        "cms2014_url = \"https://hds5210-data.s3.amazonaws.com/cms2014.csv\"\n",
        "cms2015_url = \"https://hds5210-data.s3.amazonaws.com/cms2015.csv\"\n",
        "cms2016_url = \"https://hds5210-data.s3.amazonaws.com/cms2016.csv\""
      ]
    },
    {
      "cell_type": "code",
      "source": [
        "cms2014 = pd.read_csv(cms2014_url)\n",
        "cms2015 = pd.read_csv(cms2015_url)\n",
        "cms2016 = pd.read_csv(cms2016_url)"
      ],
      "metadata": {
        "id": "PRpIDsgYsBSp"
      },
      "execution_count": 37,
      "outputs": []
    },
    {
      "cell_type": "code",
      "source": [
        "# Standardize column names\n",
        "cms2014.columns = cms2014.columns.str.lower().str.replace(' ', '_')\n",
        "cms2015.columns = cms2015.columns.str.lower().str.replace(' ', '_')\n",
        "cms2016.columns = cms2016.columns.str.lower().str.replace(' ', '_')"
      ],
      "metadata": {
        "id": "zDSkMfo4sFmQ"
      },
      "execution_count": 39,
      "outputs": []
    },
    {
      "cell_type": "code",
      "source": [
        "# Identify common columns\n",
        "common_columns = set(cms2014.columns) & set(cms2015.columns) & set(cms2016.columns)\n"
      ],
      "metadata": {
        "id": "zt6bzok2sGMo"
      },
      "execution_count": 40,
      "outputs": []
    },
    {
      "cell_type": "code",
      "source": [
        "# Concatenate dataframes to create a single dataframe\n",
        "answer = pd.concat([cms2014[common_columns], cms2015[common_columns], cms2016[common_columns]], ignore_index=True)\n"
      ],
      "metadata": {
        "colab": {
          "base_uri": "https://localhost:8080/"
        },
        "id": "6NkOl16MsILk",
        "outputId": "1c38b061-c24e-4275-fccc-208a8f1891cc"
      },
      "execution_count": 42,
      "outputs": [
        {
          "output_type": "stream",
          "name": "stderr",
          "text": [
            "<ipython-input-42-27ef353d073e>:2: FutureWarning: Passing a set as an indexer is deprecated and will raise in a future version. Use a list instead.\n",
            "  answer = pd.concat([cms2014[common_columns], cms2015[common_columns], cms2016[common_columns]], ignore_index=True)\n",
            "<ipython-input-42-27ef353d073e>:2: FutureWarning: Passing a set as an indexer is deprecated and will raise in a future version. Use a list instead.\n",
            "  answer = pd.concat([cms2014[common_columns], cms2015[common_columns], cms2016[common_columns]], ignore_index=True)\n",
            "<ipython-input-42-27ef353d073e>:2: FutureWarning: Passing a set as an indexer is deprecated and will raise in a future version. Use a list instead.\n",
            "  answer = pd.concat([cms2014[common_columns], cms2015[common_columns], cms2016[common_columns]], ignore_index=True)\n"
          ]
        }
      ]
    },
    {
      "cell_type": "code",
      "source": [
        "\n",
        "# Add a new column 'year' to store the information about the year/file\n",
        "answer['year'] = pd.concat([pd.Series([2014] * len(cms2014)),\n",
        "                            pd.Series([2015] * len(cms2015)),\n",
        "                            pd.Series([2016] * len(cms2016))], ignore_index=True)"
      ],
      "metadata": {
        "id": "oVPVSiDSsKNl"
      },
      "execution_count": 44,
      "outputs": []
    },
    {
      "cell_type": "code",
      "source": [
        "# Confirm the shape of the final dataframe\n",
        "print(answer.shape)"
      ],
      "metadata": {
        "colab": {
          "base_uri": "https://localhost:8080/"
        },
        "id": "Q_MhlYdbsO5s",
        "outputId": "a16a6b45-b2d3-41ae-a8f8-679b184a7479"
      },
      "execution_count": 45,
      "outputs": [
        {
          "output_type": "stream",
          "name": "stdout",
          "text": [
            "(193862, 60)\n"
          ]
        }
      ]
    },
    {
      "cell_type": "code",
      "execution_count": 48,
      "metadata": {
        "nbgrader": {
          "grade": true,
          "grade_id": "01-tests",
          "locked": true,
          "points": 5,
          "schema_version": 1,
          "solution": false
        },
        "id": "Z52BgWZXAwpg"
      },
      "outputs": [],
      "source": [
        "assert(answer.shape == (193862, 60))\n",
        "assert(list(answer['year'].unique()) == [2014,2015,2016])\n",
        "assert(set(answer.columns.str.lower()) == set(['year', 'nbr', 'npi', 'provider_type',\n",
        "       'medicare_participation_indicator', 'number_of_hcpcs', 'total_services',\n",
        "       'total_unique_benes', 'total_submitted_chrg_amt',\n",
        "       'total_medicare_allowed_amt', 'total_medicare_payment_amt',\n",
        "       'total_medicare_stnd_amt', 'drug_suppress_indicator',\n",
        "       'number_of_drug_hcpcs', 'total_drug_services',\n",
        "       'total_drug_unique_benes', 'total_drug_submitted_chrg_amt',\n",
        "       'total_drug_medicare_allowed_amt', 'total_drug_medicare_payment_amt',\n",
        "       'total_drug_medicare_stnd_amt', 'med_suppress_indicator',\n",
        "       'number_of_med_hcpcs', 'total_med_services', 'total_med_unique_benes',\n",
        "       'total_med_submitted_chrg_amt', 'total_med_medicare_allowed_amt',\n",
        "       'total_med_medicare_payment_amt', 'total_med_medicare_stnd_amt',\n",
        "       'beneficiary_average_age', 'beneficiary_age_less_65_count',\n",
        "       'beneficiary_age_65_74_count', 'beneficiary_age_75_84_count',\n",
        "       'beneficiary_age_greater_84_count', 'beneficiary_female_count',\n",
        "       'beneficiary_male_count', 'beneficiary_race_white_count',\n",
        "       'beneficiary_race_black_count', 'beneficiary_race_api_count',\n",
        "       'beneficiary_race_hispanic_count', 'beneficiary_race_natind_count',\n",
        "       'beneficiary_race_other_count', 'beneficiary_nondual_count',\n",
        "       'beneficiary_dual_count', 'beneficiary_cc_afib_percent',\n",
        "       'beneficiary_cc_alzrdsd_percent', 'beneficiary_cc_asthma_percent',\n",
        "       'beneficiary_cc_cancer_percent', 'beneficiary_cc_chf_percent',\n",
        "       'beneficiary_cc_ckd_percent', 'beneficiary_cc_copd_percent',\n",
        "       'beneficiary_cc_depr_percent', 'beneficiary_cc_diab_percent',\n",
        "       'beneficiary_cc_hyperl_percent', 'beneficiary_cc_hypert_percent',\n",
        "       'beneficiary_cc_ihd_percent', 'beneficiary_cc_ost_percent',\n",
        "       'beneficiary_cc_raoa_percent', 'beneficiary_cc_schiot_percent',\n",
        "       'beneficiary_cc_strk_percent', 'beneficiary_average_risk_score']))"
      ]
    },
    {
      "cell_type": "markdown",
      "metadata": {
        "nbgrader": {
          "grade": false,
          "grade_id": "02-intro",
          "locked": true,
          "schema_version": 1,
          "solution": false
        },
        "id": "77sjXAf2Awpg"
      },
      "source": [
        "## Part 2\n",
        "\n",
        "In this next part, we're going to join the **cms** data with the provider information in the **https://hds5210-data.s3.amazonaws.com/npidata.csv** file.  In this join, we don't want to lose any records from the **cms** files, even if no matching provider exists in the **npidata** file.  However, we don't care about any providers from the **npidata** file that don't have records in the **cms** files.  Those providers can be ignored.\n",
        "\n",
        "Join the data files together to create one unified data frame called `answer`.  This dataframe should have all the columns from both **cms** and **npidata** files, joined together using the `npi` column.  \n",
        "\n",
        "Note that `npi` is unique in the **npidata** file."
      ]
    },
    {
      "cell_type": "code",
      "execution_count": 50,
      "metadata": {
        "nbgrader": {
          "grade": false,
          "grade_id": "02-solution",
          "locked": false,
          "schema_version": 1,
          "solution": true
        },
        "id": "KCL6OxN0Awph",
        "colab": {
          "base_uri": "https://localhost:8080/"
        },
        "outputId": "b3298c92-a529-4247-a3fb-5b95eaf0486f"
      },
      "outputs": [
        {
          "output_type": "stream",
          "name": "stderr",
          "text": [
            "<ipython-input-50-755e9e8df510>:7: DtypeWarning: Columns (18,33) have mixed types. Specify dtype option on import or set low_memory=False.\n",
            "  npidata = pd.read_csv(npidata_url)\n"
          ]
        }
      ],
      "source": [
        "answer = None\n",
        "\n",
        "### SOLUTION\n",
        "\n",
        "# Load npidata file\n",
        "npidata_url = \"https://hds5210-data.s3.amazonaws.com/npidata.csv\"\n",
        "npidata = pd.read_csv(npidata_url)"
      ]
    },
    {
      "cell_type": "code",
      "source": [
        "npidata.head()"
      ],
      "metadata": {
        "colab": {
          "base_uri": "https://localhost:8080/",
          "height": 446
        },
        "id": "X820QVBsttdr",
        "outputId": "d6d7f113-e08d-4776-a919-13be9a5bb295"
      },
      "execution_count": 52,
      "outputs": [
        {
          "output_type": "execute_result",
          "data": {
            "text/plain": [
              "   row         NPI  Entity Type Code  Replacement NPI  \\\n",
              "0   13  1205839354      1.0000000000              NaN   \n",
              "1   15  1023011079      2.0000000000              NaN   \n",
              "2   74  1932102969      1.0000000000              NaN   \n",
              "3   88  1477556405      1.0000000000              NaN   \n",
              "4   89  1386647311      1.0000000000              NaN   \n",
              "\n",
              "  Employer Identification Number (EIN)  \\\n",
              "0                                  NaN   \n",
              "1                            <UNAVAIL>   \n",
              "2                                  NaN   \n",
              "3                                  NaN   \n",
              "4                                  NaN   \n",
              "\n",
              "  Provider Organization Name (Legal Business Name)  \\\n",
              "0                                              NaN   \n",
              "1                 ADVANTAGE HOME HEALTH CARE, INC.   \n",
              "2                                              NaN   \n",
              "3                                              NaN   \n",
              "4                                              NaN   \n",
              "\n",
              "  Provider Last Name (Legal Name) Provider First Name Provider Middle Name  \\\n",
              "0                       DIFILIPPO                EMIL                    A   \n",
              "1                             NaN                 NaN                  NaN   \n",
              "2                          HELFER              TAMARA                    G   \n",
              "3                     LINSENMEYER             CHARLES                    M   \n",
              "4                          LASKEN                GARY                    W   \n",
              "\n",
              "  Provider Name Prefix Text  ...  \\\n",
              "0                       DR.  ...   \n",
              "1                       NaN  ...   \n",
              "2                       DR.  ...   \n",
              "3                       DR.  ...   \n",
              "4                       DR.  ...   \n",
              "\n",
              "  Provider Business Practice Location Address Postal Code  \\\n",
              "0                               633664281.0000000000        \n",
              "1                               604508812.0000000000        \n",
              "2                               618203909.0000000000        \n",
              "3                               633012881.0000000000        \n",
              "4                               616142078.0000000000        \n",
              "\n",
              "  Provider Business Practice Location Address Country Code (If outside U.S.)  \\\n",
              "0                                                 US                           \n",
              "1                                                 US                           \n",
              "2                                                 US                           \n",
              "3                                                 US                           \n",
              "4                                                 US                           \n",
              "\n",
              "  Provider Business Practice Location Address Telephone Number  \\\n",
              "0                                         6365615030             \n",
              "1                                         8154671905             \n",
              "2                                         2173661255             \n",
              "3                                         6369467050             \n",
              "4                                         3096925500             \n",
              "\n",
              "   Provider Business Practice Location Address Fax Number  \\\n",
              "0                              6365615033.0000000000        \n",
              "1                              8154676392.0000000000        \n",
              "2                              2173666106.0000000000        \n",
              "3                              6369463368.0000000000        \n",
              "4                              3096925508.0000000000        \n",
              "\n",
              "  Provider Enumeration Date Last Update Date NPI Deactivation Reason Code  \\\n",
              "0                05/23/2005       05/06/2015                          NaN   \n",
              "1                05/23/2005       12/12/2014                          NaN   \n",
              "2                05/23/2005       01/24/2014                          NaN   \n",
              "3                05/23/2005       07/08/2007                          NaN   \n",
              "4                05/23/2005       05/19/2011                          NaN   \n",
              "\n",
              "  NPI Deactivation Date NPI Reactivation Date Provider Gender Code  \n",
              "0                   NaN                   NaN                    M  \n",
              "1                   NaN                   NaN                  NaN  \n",
              "2                   NaN                   NaN                    F  \n",
              "3                   NaN                   NaN                    M  \n",
              "4                   NaN                   NaN                    M  \n",
              "\n",
              "[5 rows x 43 columns]"
            ],
            "text/html": [
              "\n",
              "  <div id=\"df-d38fff50-bda3-4694-9769-cd2c8a20be40\" class=\"colab-df-container\">\n",
              "    <div>\n",
              "<style scoped>\n",
              "    .dataframe tbody tr th:only-of-type {\n",
              "        vertical-align: middle;\n",
              "    }\n",
              "\n",
              "    .dataframe tbody tr th {\n",
              "        vertical-align: top;\n",
              "    }\n",
              "\n",
              "    .dataframe thead th {\n",
              "        text-align: right;\n",
              "    }\n",
              "</style>\n",
              "<table border=\"1\" class=\"dataframe\">\n",
              "  <thead>\n",
              "    <tr style=\"text-align: right;\">\n",
              "      <th></th>\n",
              "      <th>row</th>\n",
              "      <th>NPI</th>\n",
              "      <th>Entity Type Code</th>\n",
              "      <th>Replacement NPI</th>\n",
              "      <th>Employer Identification Number (EIN)</th>\n",
              "      <th>Provider Organization Name (Legal Business Name)</th>\n",
              "      <th>Provider Last Name (Legal Name)</th>\n",
              "      <th>Provider First Name</th>\n",
              "      <th>Provider Middle Name</th>\n",
              "      <th>Provider Name Prefix Text</th>\n",
              "      <th>...</th>\n",
              "      <th>Provider Business Practice Location Address Postal Code</th>\n",
              "      <th>Provider Business Practice Location Address Country Code (If outside U.S.)</th>\n",
              "      <th>Provider Business Practice Location Address Telephone Number</th>\n",
              "      <th>Provider Business Practice Location Address Fax Number</th>\n",
              "      <th>Provider Enumeration Date</th>\n",
              "      <th>Last Update Date</th>\n",
              "      <th>NPI Deactivation Reason Code</th>\n",
              "      <th>NPI Deactivation Date</th>\n",
              "      <th>NPI Reactivation Date</th>\n",
              "      <th>Provider Gender Code</th>\n",
              "    </tr>\n",
              "  </thead>\n",
              "  <tbody>\n",
              "    <tr>\n",
              "      <th>0</th>\n",
              "      <td>13</td>\n",
              "      <td>1205839354</td>\n",
              "      <td>1.0000000000</td>\n",
              "      <td>NaN</td>\n",
              "      <td>NaN</td>\n",
              "      <td>NaN</td>\n",
              "      <td>DIFILIPPO</td>\n",
              "      <td>EMIL</td>\n",
              "      <td>A</td>\n",
              "      <td>DR.</td>\n",
              "      <td>...</td>\n",
              "      <td>633664281.0000000000</td>\n",
              "      <td>US</td>\n",
              "      <td>6365615030</td>\n",
              "      <td>6365615033.0000000000</td>\n",
              "      <td>05/23/2005</td>\n",
              "      <td>05/06/2015</td>\n",
              "      <td>NaN</td>\n",
              "      <td>NaN</td>\n",
              "      <td>NaN</td>\n",
              "      <td>M</td>\n",
              "    </tr>\n",
              "    <tr>\n",
              "      <th>1</th>\n",
              "      <td>15</td>\n",
              "      <td>1023011079</td>\n",
              "      <td>2.0000000000</td>\n",
              "      <td>NaN</td>\n",
              "      <td>&lt;UNAVAIL&gt;</td>\n",
              "      <td>ADVANTAGE HOME HEALTH CARE, INC.</td>\n",
              "      <td>NaN</td>\n",
              "      <td>NaN</td>\n",
              "      <td>NaN</td>\n",
              "      <td>NaN</td>\n",
              "      <td>...</td>\n",
              "      <td>604508812.0000000000</td>\n",
              "      <td>US</td>\n",
              "      <td>8154671905</td>\n",
              "      <td>8154676392.0000000000</td>\n",
              "      <td>05/23/2005</td>\n",
              "      <td>12/12/2014</td>\n",
              "      <td>NaN</td>\n",
              "      <td>NaN</td>\n",
              "      <td>NaN</td>\n",
              "      <td>NaN</td>\n",
              "    </tr>\n",
              "    <tr>\n",
              "      <th>2</th>\n",
              "      <td>74</td>\n",
              "      <td>1932102969</td>\n",
              "      <td>1.0000000000</td>\n",
              "      <td>NaN</td>\n",
              "      <td>NaN</td>\n",
              "      <td>NaN</td>\n",
              "      <td>HELFER</td>\n",
              "      <td>TAMARA</td>\n",
              "      <td>G</td>\n",
              "      <td>DR.</td>\n",
              "      <td>...</td>\n",
              "      <td>618203909.0000000000</td>\n",
              "      <td>US</td>\n",
              "      <td>2173661255</td>\n",
              "      <td>2173666106.0000000000</td>\n",
              "      <td>05/23/2005</td>\n",
              "      <td>01/24/2014</td>\n",
              "      <td>NaN</td>\n",
              "      <td>NaN</td>\n",
              "      <td>NaN</td>\n",
              "      <td>F</td>\n",
              "    </tr>\n",
              "    <tr>\n",
              "      <th>3</th>\n",
              "      <td>88</td>\n",
              "      <td>1477556405</td>\n",
              "      <td>1.0000000000</td>\n",
              "      <td>NaN</td>\n",
              "      <td>NaN</td>\n",
              "      <td>NaN</td>\n",
              "      <td>LINSENMEYER</td>\n",
              "      <td>CHARLES</td>\n",
              "      <td>M</td>\n",
              "      <td>DR.</td>\n",
              "      <td>...</td>\n",
              "      <td>633012881.0000000000</td>\n",
              "      <td>US</td>\n",
              "      <td>6369467050</td>\n",
              "      <td>6369463368.0000000000</td>\n",
              "      <td>05/23/2005</td>\n",
              "      <td>07/08/2007</td>\n",
              "      <td>NaN</td>\n",
              "      <td>NaN</td>\n",
              "      <td>NaN</td>\n",
              "      <td>M</td>\n",
              "    </tr>\n",
              "    <tr>\n",
              "      <th>4</th>\n",
              "      <td>89</td>\n",
              "      <td>1386647311</td>\n",
              "      <td>1.0000000000</td>\n",
              "      <td>NaN</td>\n",
              "      <td>NaN</td>\n",
              "      <td>NaN</td>\n",
              "      <td>LASKEN</td>\n",
              "      <td>GARY</td>\n",
              "      <td>W</td>\n",
              "      <td>DR.</td>\n",
              "      <td>...</td>\n",
              "      <td>616142078.0000000000</td>\n",
              "      <td>US</td>\n",
              "      <td>3096925500</td>\n",
              "      <td>3096925508.0000000000</td>\n",
              "      <td>05/23/2005</td>\n",
              "      <td>05/19/2011</td>\n",
              "      <td>NaN</td>\n",
              "      <td>NaN</td>\n",
              "      <td>NaN</td>\n",
              "      <td>M</td>\n",
              "    </tr>\n",
              "  </tbody>\n",
              "</table>\n",
              "<p>5 rows × 43 columns</p>\n",
              "</div>\n",
              "    <div class=\"colab-df-buttons\">\n",
              "\n",
              "  <div class=\"colab-df-container\">\n",
              "    <button class=\"colab-df-convert\" onclick=\"convertToInteractive('df-d38fff50-bda3-4694-9769-cd2c8a20be40')\"\n",
              "            title=\"Convert this dataframe to an interactive table.\"\n",
              "            style=\"display:none;\">\n",
              "\n",
              "  <svg xmlns=\"http://www.w3.org/2000/svg\" height=\"24px\" viewBox=\"0 -960 960 960\">\n",
              "    <path d=\"M120-120v-720h720v720H120Zm60-500h600v-160H180v160Zm220 220h160v-160H400v160Zm0 220h160v-160H400v160ZM180-400h160v-160H180v160Zm440 0h160v-160H620v160ZM180-180h160v-160H180v160Zm440 0h160v-160H620v160Z\"/>\n",
              "  </svg>\n",
              "    </button>\n",
              "\n",
              "  <style>\n",
              "    .colab-df-container {\n",
              "      display:flex;\n",
              "      gap: 12px;\n",
              "    }\n",
              "\n",
              "    .colab-df-convert {\n",
              "      background-color: #E8F0FE;\n",
              "      border: none;\n",
              "      border-radius: 50%;\n",
              "      cursor: pointer;\n",
              "      display: none;\n",
              "      fill: #1967D2;\n",
              "      height: 32px;\n",
              "      padding: 0 0 0 0;\n",
              "      width: 32px;\n",
              "    }\n",
              "\n",
              "    .colab-df-convert:hover {\n",
              "      background-color: #E2EBFA;\n",
              "      box-shadow: 0px 1px 2px rgba(60, 64, 67, 0.3), 0px 1px 3px 1px rgba(60, 64, 67, 0.15);\n",
              "      fill: #174EA6;\n",
              "    }\n",
              "\n",
              "    .colab-df-buttons div {\n",
              "      margin-bottom: 4px;\n",
              "    }\n",
              "\n",
              "    [theme=dark] .colab-df-convert {\n",
              "      background-color: #3B4455;\n",
              "      fill: #D2E3FC;\n",
              "    }\n",
              "\n",
              "    [theme=dark] .colab-df-convert:hover {\n",
              "      background-color: #434B5C;\n",
              "      box-shadow: 0px 1px 3px 1px rgba(0, 0, 0, 0.15);\n",
              "      filter: drop-shadow(0px 1px 2px rgba(0, 0, 0, 0.3));\n",
              "      fill: #FFFFFF;\n",
              "    }\n",
              "  </style>\n",
              "\n",
              "    <script>\n",
              "      const buttonEl =\n",
              "        document.querySelector('#df-d38fff50-bda3-4694-9769-cd2c8a20be40 button.colab-df-convert');\n",
              "      buttonEl.style.display =\n",
              "        google.colab.kernel.accessAllowed ? 'block' : 'none';\n",
              "\n",
              "      async function convertToInteractive(key) {\n",
              "        const element = document.querySelector('#df-d38fff50-bda3-4694-9769-cd2c8a20be40');\n",
              "        const dataTable =\n",
              "          await google.colab.kernel.invokeFunction('convertToInteractive',\n",
              "                                                    [key], {});\n",
              "        if (!dataTable) return;\n",
              "\n",
              "        const docLinkHtml = 'Like what you see? Visit the ' +\n",
              "          '<a target=\"_blank\" href=https://colab.research.google.com/notebooks/data_table.ipynb>data table notebook</a>'\n",
              "          + ' to learn more about interactive tables.';\n",
              "        element.innerHTML = '';\n",
              "        dataTable['output_type'] = 'display_data';\n",
              "        await google.colab.output.renderOutput(dataTable, element);\n",
              "        const docLink = document.createElement('div');\n",
              "        docLink.innerHTML = docLinkHtml;\n",
              "        element.appendChild(docLink);\n",
              "      }\n",
              "    </script>\n",
              "  </div>\n",
              "\n",
              "\n",
              "<div id=\"df-07815cd6-152a-4539-ab9f-87e29feafb64\">\n",
              "  <button class=\"colab-df-quickchart\" onclick=\"quickchart('df-07815cd6-152a-4539-ab9f-87e29feafb64')\"\n",
              "            title=\"Suggest charts\"\n",
              "            style=\"display:none;\">\n",
              "\n",
              "<svg xmlns=\"http://www.w3.org/2000/svg\" height=\"24px\"viewBox=\"0 0 24 24\"\n",
              "     width=\"24px\">\n",
              "    <g>\n",
              "        <path d=\"M19 3H5c-1.1 0-2 .9-2 2v14c0 1.1.9 2 2 2h14c1.1 0 2-.9 2-2V5c0-1.1-.9-2-2-2zM9 17H7v-7h2v7zm4 0h-2V7h2v10zm4 0h-2v-4h2v4z\"/>\n",
              "    </g>\n",
              "</svg>\n",
              "  </button>\n",
              "\n",
              "<style>\n",
              "  .colab-df-quickchart {\n",
              "      --bg-color: #E8F0FE;\n",
              "      --fill-color: #1967D2;\n",
              "      --hover-bg-color: #E2EBFA;\n",
              "      --hover-fill-color: #174EA6;\n",
              "      --disabled-fill-color: #AAA;\n",
              "      --disabled-bg-color: #DDD;\n",
              "  }\n",
              "\n",
              "  [theme=dark] .colab-df-quickchart {\n",
              "      --bg-color: #3B4455;\n",
              "      --fill-color: #D2E3FC;\n",
              "      --hover-bg-color: #434B5C;\n",
              "      --hover-fill-color: #FFFFFF;\n",
              "      --disabled-bg-color: #3B4455;\n",
              "      --disabled-fill-color: #666;\n",
              "  }\n",
              "\n",
              "  .colab-df-quickchart {\n",
              "    background-color: var(--bg-color);\n",
              "    border: none;\n",
              "    border-radius: 50%;\n",
              "    cursor: pointer;\n",
              "    display: none;\n",
              "    fill: var(--fill-color);\n",
              "    height: 32px;\n",
              "    padding: 0;\n",
              "    width: 32px;\n",
              "  }\n",
              "\n",
              "  .colab-df-quickchart:hover {\n",
              "    background-color: var(--hover-bg-color);\n",
              "    box-shadow: 0 1px 2px rgba(60, 64, 67, 0.3), 0 1px 3px 1px rgba(60, 64, 67, 0.15);\n",
              "    fill: var(--button-hover-fill-color);\n",
              "  }\n",
              "\n",
              "  .colab-df-quickchart-complete:disabled,\n",
              "  .colab-df-quickchart-complete:disabled:hover {\n",
              "    background-color: var(--disabled-bg-color);\n",
              "    fill: var(--disabled-fill-color);\n",
              "    box-shadow: none;\n",
              "  }\n",
              "\n",
              "  .colab-df-spinner {\n",
              "    border: 2px solid var(--fill-color);\n",
              "    border-color: transparent;\n",
              "    border-bottom-color: var(--fill-color);\n",
              "    animation:\n",
              "      spin 1s steps(1) infinite;\n",
              "  }\n",
              "\n",
              "  @keyframes spin {\n",
              "    0% {\n",
              "      border-color: transparent;\n",
              "      border-bottom-color: var(--fill-color);\n",
              "      border-left-color: var(--fill-color);\n",
              "    }\n",
              "    20% {\n",
              "      border-color: transparent;\n",
              "      border-left-color: var(--fill-color);\n",
              "      border-top-color: var(--fill-color);\n",
              "    }\n",
              "    30% {\n",
              "      border-color: transparent;\n",
              "      border-left-color: var(--fill-color);\n",
              "      border-top-color: var(--fill-color);\n",
              "      border-right-color: var(--fill-color);\n",
              "    }\n",
              "    40% {\n",
              "      border-color: transparent;\n",
              "      border-right-color: var(--fill-color);\n",
              "      border-top-color: var(--fill-color);\n",
              "    }\n",
              "    60% {\n",
              "      border-color: transparent;\n",
              "      border-right-color: var(--fill-color);\n",
              "    }\n",
              "    80% {\n",
              "      border-color: transparent;\n",
              "      border-right-color: var(--fill-color);\n",
              "      border-bottom-color: var(--fill-color);\n",
              "    }\n",
              "    90% {\n",
              "      border-color: transparent;\n",
              "      border-bottom-color: var(--fill-color);\n",
              "    }\n",
              "  }\n",
              "</style>\n",
              "\n",
              "  <script>\n",
              "    async function quickchart(key) {\n",
              "      const quickchartButtonEl =\n",
              "        document.querySelector('#' + key + ' button');\n",
              "      quickchartButtonEl.disabled = true;  // To prevent multiple clicks.\n",
              "      quickchartButtonEl.classList.add('colab-df-spinner');\n",
              "      try {\n",
              "        const charts = await google.colab.kernel.invokeFunction(\n",
              "            'suggestCharts', [key], {});\n",
              "      } catch (error) {\n",
              "        console.error('Error during call to suggestCharts:', error);\n",
              "      }\n",
              "      quickchartButtonEl.classList.remove('colab-df-spinner');\n",
              "      quickchartButtonEl.classList.add('colab-df-quickchart-complete');\n",
              "    }\n",
              "    (() => {\n",
              "      let quickchartButtonEl =\n",
              "        document.querySelector('#df-07815cd6-152a-4539-ab9f-87e29feafb64 button');\n",
              "      quickchartButtonEl.style.display =\n",
              "        google.colab.kernel.accessAllowed ? 'block' : 'none';\n",
              "    })();\n",
              "  </script>\n",
              "</div>\n",
              "    </div>\n",
              "  </div>\n"
            ]
          },
          "metadata": {},
          "execution_count": 52
        }
      ]
    },
    {
      "cell_type": "code",
      "source": [
        "npidata.info()"
      ],
      "metadata": {
        "colab": {
          "base_uri": "https://localhost:8080/"
        },
        "id": "fK3NSayR64uv",
        "outputId": "2fdf3bda-bd12-4940-b426-32bff26bd097"
      },
      "execution_count": 54,
      "outputs": [
        {
          "output_type": "stream",
          "name": "stdout",
          "text": [
            "<class 'pandas.core.frame.DataFrame'>\n",
            "RangeIndex: 251661 entries, 0 to 251660\n",
            "Data columns (total 43 columns):\n",
            " #   Column                                                                      Non-Null Count   Dtype  \n",
            "---  ------                                                                      --------------   -----  \n",
            " 0   row                                                                         251661 non-null  int64  \n",
            " 1   NPI                                                                         251661 non-null  int64  \n",
            " 2   Entity Type Code                                                            251660 non-null  float64\n",
            " 3   Replacement NPI                                                             5 non-null       float64\n",
            " 4   Employer Identification Number (EIN)                                        69438 non-null   object \n",
            " 5   Provider Organization Name (Legal Business Name)                            69437 non-null   object \n",
            " 6   Provider Last Name (Legal Name)                                             182218 non-null  object \n",
            " 7   Provider First Name                                                         182220 non-null  object \n",
            " 8   Provider Middle Name                                                        125166 non-null  object \n",
            " 9   Provider Name Prefix Text                                                   90773 non-null   object \n",
            " 10  Provider Name Suffix Text                                                   3142 non-null    object \n",
            " 11  Provider Credential Text                                                    162904 non-null  object \n",
            " 12  Provider Other Organization Name                                            26833 non-null   object \n",
            " 13  Provider Other Organization Name Type Code                                  26845 non-null   float64\n",
            " 14  Provider Other Last Name                                                    13537 non-null   object \n",
            " 15  Provider Other First Name                                                   13536 non-null   object \n",
            " 16  Provider Other Middle Name                                                  9392 non-null    object \n",
            " 17  Provider Other Name Prefix Text                                             4617 non-null    object \n",
            " 18  Provider Other Name Suffix Text                                             80 non-null      object \n",
            " 19  Provider Other Credential Text                                              8743 non-null    object \n",
            " 20  Provider Other Last Name Type Code                                          13546 non-null   float64\n",
            " 21  Provider First Line Business Mailing Address                                251660 non-null  object \n",
            " 22  Provider Second Line Business Mailing Address                               83662 non-null   object \n",
            " 23  Provider Business Mailing Address City Name                                 251660 non-null  object \n",
            " 24  Provider Business Mailing Address State Name                                251660 non-null  object \n",
            " 25  Provider Business Mailing Address Postal Code                               251660 non-null  float64\n",
            " 26  Provider Business Mailing Address Country Code (If outside U.S.)            251660 non-null  object \n",
            " 27  Provider Business Mailing Address Telephone Number                          230981 non-null  object \n",
            " 28  Provider Business Mailing Address Fax Number                                142871 non-null  float64\n",
            " 29  Provider First Line Business Practice Location Address                      251660 non-null  object \n",
            " 30  Provider Second Line Business Practice Location Address                     77999 non-null   object \n",
            " 31  Provider Business Practice Location Address City Name                       251660 non-null  object \n",
            " 32  Provider Business Practice Location Address State Name                      251660 non-null  object \n",
            " 33  Provider Business Practice Location Address Postal Code                     251660 non-null  object \n",
            " 34  Provider Business Practice Location Address Country Code (If outside U.S.)  251660 non-null  object \n",
            " 35  Provider Business Practice Location Address Telephone Number                251653 non-null  object \n",
            " 36  Provider Business Practice Location Address Fax Number                      146361 non-null  float64\n",
            " 37  Provider Enumeration Date                                                   251660 non-null  object \n",
            " 38  Last Update Date                                                            251660 non-null  object \n",
            " 39  NPI Deactivation Reason Code                                                0 non-null       float64\n",
            " 40  NPI Deactivation Date                                                       335 non-null     object \n",
            " 41  NPI Reactivation Date                                                       335 non-null     object \n",
            " 42  Provider Gender Code                                                        182222 non-null  object \n",
            "dtypes: float64(8), int64(2), object(33)\n",
            "memory usage: 82.6+ MB\n"
          ]
        }
      ]
    },
    {
      "cell_type": "code",
      "source": [
        "# Load cms files for the years 2014, 2015, and 2016\n",
        "cms2014_url = \"https://hds5210-data.s3.amazonaws.com/cms2014.csv\"\n",
        "cms2015_url = \"https://hds5210-data.s3.amazonaws.com/cms2015.csv\"\n",
        "cms2016_url = \"https://hds5210-data.s3.amazonaws.com/cms2016.csv\"\n",
        "cms2014 = pd.read_csv(cms2014_url)\n",
        "cms2015 = pd.read_csv(cms2015_url)\n",
        "cms2016 = pd.read_csv(cms2016_url)\n",
        "\n",
        "# Standardize column names\n",
        "cms2014.columns = cms2014.columns.str.lower().str.replace(' ', '_')\n",
        "cms2015.columns = cms2015.columns.str.lower().str.replace(' ', '_')\n",
        "cms2016.columns = cms2016.columns.str.lower().str.replace(' ', '_')\n",
        "\n",
        "# Identify common columns\n",
        "common_columns = set(cms2014.columns) & set(cms2015.columns) & set(cms2016.columns)\n",
        "\n",
        "# Concatenate dataframes to create a single dataframe\n",
        "answer = pd.concat([cms2014[common_columns], cms2015[common_columns], cms2016[common_columns]], ignore_index=True)\n",
        "\n",
        "# Add a new column 'year' to store the information about the year/file\n",
        "answer['year'] = pd.concat([pd.Series([2014] * len(cms2014)),\n",
        "                            pd.Series([2015] * len(cms2015)),\n",
        "                            pd.Series([2016] * len(cms2016))], ignore_index=True)\n",
        "\n",
        "# Load npidata file\n",
        "npidata_url = \"https://hds5210-data.s3.amazonaws.com/npidata.csv\"\n",
        "npidata = pd.read_csv(npidata_url)\n",
        "\n",
        "# Merge cms data with npidata\n",
        "answer = pd.merge(answer, npidata, how='left', left_on='npi', right_on='NPI')\n",
        "\n",
        "# Confirm the shape of the final dataframe\n",
        "print(answer.shape)\n"
      ],
      "metadata": {
        "colab": {
          "base_uri": "https://localhost:8080/"
        },
        "id": "OfXqg6sZtpkb",
        "outputId": "0b7f271b-a7ac-40c2-8417-02798cb45daa"
      },
      "execution_count": 56,
      "outputs": [
        {
          "output_type": "stream",
          "name": "stderr",
          "text": [
            "<ipython-input-56-48ae3d52e0a9>:18: FutureWarning: Passing a set as an indexer is deprecated and will raise in a future version. Use a list instead.\n",
            "  answer = pd.concat([cms2014[common_columns], cms2015[common_columns], cms2016[common_columns]], ignore_index=True)\n",
            "<ipython-input-56-48ae3d52e0a9>:18: FutureWarning: Passing a set as an indexer is deprecated and will raise in a future version. Use a list instead.\n",
            "  answer = pd.concat([cms2014[common_columns], cms2015[common_columns], cms2016[common_columns]], ignore_index=True)\n",
            "<ipython-input-56-48ae3d52e0a9>:18: FutureWarning: Passing a set as an indexer is deprecated and will raise in a future version. Use a list instead.\n",
            "  answer = pd.concat([cms2014[common_columns], cms2015[common_columns], cms2016[common_columns]], ignore_index=True)\n",
            "<ipython-input-56-48ae3d52e0a9>:27: DtypeWarning: Columns (18,33) have mixed types. Specify dtype option on import or set low_memory=False.\n",
            "  npidata = pd.read_csv(npidata_url)\n"
          ]
        },
        {
          "output_type": "stream",
          "name": "stdout",
          "text": [
            "(193862, 103)\n"
          ]
        }
      ]
    },
    {
      "cell_type": "code",
      "execution_count": 57,
      "metadata": {
        "nbgrader": {
          "grade": true,
          "grade_id": "02-tests",
          "locked": true,
          "points": 5,
          "schema_version": 1,
          "solution": false
        },
        "id": "sPEM0Bq0Awph"
      },
      "outputs": [],
      "source": [
        "import numpy\n",
        "assert(answer.shape == (193862, 103))\n",
        "assert(list(answer['Provider Business Mailing Address State Name'].unique()) == ['IL','MO',numpy.nan,'WY'])\n",
        "assert(list(answer.groupby('Provider Business Mailing Address State Name').NPI.count()) == [111520, 53366, 4805])"
      ]
    },
    {
      "cell_type": "markdown",
      "metadata": {
        "nbgrader": {
          "grade": false,
          "grade_id": "03-intro",
          "locked": true,
          "schema_version": 1,
          "solution": false
        },
        "id": "ID5cZ8ZZAwph"
      },
      "source": [
        "## Part 3\n",
        "\n",
        "If you did everything right above, you'll notice that grouping by a column with NaN in it will cause some rows to disappear from the aggregation test.  So, let's create a new column called `'State'` that has the same value as whatever is in the `'Provider Business Mailing Address State Name'` column or a value of `'XX'` if there is no state information.\n",
        "\n",
        "Set `answer` to be your final data frame with the new `'State'` column added."
      ]
    },
    {
      "cell_type": "code",
      "source": [
        "# Load cms files for the years 2014, 2015, and 2016\n",
        "cms2014_url = \"https://hds5210-data.s3.amazonaws.com/cms2014.csv\"\n",
        "cms2015_url = \"https://hds5210-data.s3.amazonaws.com/cms2015.csv\"\n",
        "cms2016_url = \"https://hds5210-data.s3.amazonaws.com/cms2016.csv\"\n",
        "cms2014 = pd.read_csv(cms2014_url)\n",
        "cms2015 = pd.read_csv(cms2015_url)\n",
        "cms2016 = pd.read_csv(cms2016_url)\n",
        "\n",
        "# Standardize column names\n",
        "cms2014.columns = cms2014.columns.str.lower().str.replace(' ', '_')\n",
        "cms2015.columns = cms2015.columns.str.lower().str.replace(' ', '_')\n",
        "cms2016.columns = cms2016.columns.str.lower().str.replace(' ', '_')\n",
        "\n",
        "# Identify common columns\n",
        "common_columns = set(cms2014.columns) & set(cms2015.columns) & set(cms2016.columns)\n",
        "\n",
        "# Concatenate dataframes to create a single dataframe\n",
        "answer = pd.concat([cms2014[common_columns], cms2015[common_columns], cms2016[common_columns]], ignore_index=True)\n",
        "\n",
        "# Add a new column 'year' to store the information about the year/file\n",
        "answer['year'] = pd.concat([pd.Series([2014] * len(cms2014)),\n",
        "                            pd.Series([2015] * len(cms2015)),\n",
        "                            pd.Series([2016] * len(cms2016))], ignore_index=True)\n",
        "\n",
        "# Load npidata file\n",
        "npidata_url = \"https://hds5210-data.s3.amazonaws.com/npidata.csv\"\n",
        "npidata = pd.read_csv(npidata_url)\n",
        "# Create a new column 'State' based on 'Provider Business Mailing Address State Name'\n",
        "answer = pd.merge(answer, npidata, how='left', left_on='npi', right_on='NPI')\n",
        "\n",
        "# Create the 'State' column and fill NaN values with 'XX'\n",
        "answer['State'] = answer['Provider Business Mailing Address State Name'].fillna('XX')\n",
        "\n",
        "# Set answer to be your final dataframe with the new 'State' column added\n",
        "answer = answer.copy()  # Make a copy to avoid SettingWithCopyWarning\n",
        "\n",
        "# Confirm the shape of the final dataframe\n",
        "print(answer.shape)"
      ],
      "metadata": {
        "colab": {
          "base_uri": "https://localhost:8080/"
        },
        "id": "fNu7Y6Sd2M29",
        "outputId": "4b0c174b-72ba-4eb7-9de2-3f1491e45489"
      },
      "execution_count": 59,
      "outputs": [
        {
          "output_type": "stream",
          "name": "stderr",
          "text": [
            "<ipython-input-59-4bdda1b23b10>:18: FutureWarning: Passing a set as an indexer is deprecated and will raise in a future version. Use a list instead.\n",
            "  answer = pd.concat([cms2014[common_columns], cms2015[common_columns], cms2016[common_columns]], ignore_index=True)\n",
            "<ipython-input-59-4bdda1b23b10>:18: FutureWarning: Passing a set as an indexer is deprecated and will raise in a future version. Use a list instead.\n",
            "  answer = pd.concat([cms2014[common_columns], cms2015[common_columns], cms2016[common_columns]], ignore_index=True)\n",
            "<ipython-input-59-4bdda1b23b10>:18: FutureWarning: Passing a set as an indexer is deprecated and will raise in a future version. Use a list instead.\n",
            "  answer = pd.concat([cms2014[common_columns], cms2015[common_columns], cms2016[common_columns]], ignore_index=True)\n",
            "<ipython-input-59-4bdda1b23b10>:27: DtypeWarning: Columns (18,33) have mixed types. Specify dtype option on import or set low_memory=False.\n",
            "  npidata = pd.read_csv(npidata_url)\n"
          ]
        },
        {
          "output_type": "stream",
          "name": "stdout",
          "text": [
            "(193862, 104)\n"
          ]
        }
      ]
    },
    {
      "cell_type": "code",
      "execution_count": 60,
      "metadata": {
        "nbgrader": {
          "grade": true,
          "grade_id": "03-tests",
          "locked": true,
          "points": 5,
          "schema_version": 1,
          "solution": false
        },
        "id": "503H14qTAwph"
      },
      "outputs": [],
      "source": [
        "assert(list(answer.groupby('State').npi.count()) == [111520, 53366, 4805, 24171])\n",
        "assert(answer.shape == (193862, 104))"
      ]
    },
    {
      "cell_type": "markdown",
      "metadata": {
        "nbgrader": {
          "grade": false,
          "grade_id": "04-intro",
          "locked": true,
          "schema_version": 1,
          "solution": false
        },
        "id": "5O1jMpj5Awph"
      },
      "source": [
        "## Part 4\n",
        "\n",
        "Next, let's summarize the data by year and by State.  Create a pivot table that contains one row for each state and one column for each year.  Within the pivot table, put a sum of total services as the values.\n",
        "\n",
        "Assign `answer` to be that resulting pivot table.  In the tests, I'm going to plot a bar chart of your pivot table."
      ]
    },
    {
      "cell_type": "code",
      "source": [
        "# Load cms files for the years 2014, 2015, and 2016\n",
        "cms2014_url = \"https://hds5210-data.s3.amazonaws.com/cms2014.csv\"\n",
        "cms2015_url = \"https://hds5210-data.s3.amazonaws.com/cms2015.csv\"\n",
        "cms2016_url = \"https://hds5210-data.s3.amazonaws.com/cms2016.csv\"\n",
        "cms2014 = pd.read_csv(cms2014_url)\n",
        "cms2015 = pd.read_csv(cms2015_url)\n",
        "cms2016 = pd.read_csv(cms2016_url)\n"
      ],
      "metadata": {
        "id": "BgLOuQrzpkOz"
      },
      "execution_count": 61,
      "outputs": []
    },
    {
      "cell_type": "code",
      "source": [
        "# Standardize column names\n",
        "cms2014.columns = cms2014.columns.str.lower().str.replace(' ', '_')\n",
        "cms2015.columns = cms2015.columns.str.lower().str.replace(' ', '_')\n",
        "cms2016.columns = cms2016.columns.str.lower().str.replace(' ', '_')\n"
      ],
      "metadata": {
        "id": "TXKB5IqDplsL"
      },
      "execution_count": 63,
      "outputs": []
    },
    {
      "cell_type": "code",
      "source": [
        "# Identify common columns\n",
        "common_columns = set(cms2014.columns) & set(cms2015.columns) & set(cms2016.columns)\n",
        "\n",
        "# Concatenate dataframes to create a single dataframe\n",
        "answer = pd.concat([cms2014[common_columns], cms2015[common_columns], cms2016[common_columns]], ignore_index=True)\n",
        "\n",
        "# Add a new column 'year' to store the information about the year/file\n",
        "answer['year'] = pd.concat([pd.Series([2014] * len(cms2014)),\n",
        "                            pd.Series([2015] * len(cms2015)),\n",
        "                            pd.Series([2016] * len(cms2016))], ignore_index=True)\n"
      ],
      "metadata": {
        "colab": {
          "base_uri": "https://localhost:8080/"
        },
        "id": "up7oppCCpnE7",
        "outputId": "d640498a-6a5b-42d5-99df-35f6621c944e"
      },
      "execution_count": 64,
      "outputs": [
        {
          "output_type": "stream",
          "name": "stderr",
          "text": [
            "<ipython-input-64-b3b2775c8930>:5: FutureWarning: Passing a set as an indexer is deprecated and will raise in a future version. Use a list instead.\n",
            "  answer = pd.concat([cms2014[common_columns], cms2015[common_columns], cms2016[common_columns]], ignore_index=True)\n",
            "<ipython-input-64-b3b2775c8930>:5: FutureWarning: Passing a set as an indexer is deprecated and will raise in a future version. Use a list instead.\n",
            "  answer = pd.concat([cms2014[common_columns], cms2015[common_columns], cms2016[common_columns]], ignore_index=True)\n",
            "<ipython-input-64-b3b2775c8930>:5: FutureWarning: Passing a set as an indexer is deprecated and will raise in a future version. Use a list instead.\n",
            "  answer = pd.concat([cms2014[common_columns], cms2015[common_columns], cms2016[common_columns]], ignore_index=True)\n"
          ]
        }
      ]
    },
    {
      "cell_type": "code",
      "source": [
        "# Load npidata file\n",
        "npidata_url = \"https://hds5210-data.s3.amazonaws.com/npidata.csv\"\n",
        "npidata = pd.read_csv(npidata_url)\n"
      ],
      "metadata": {
        "colab": {
          "base_uri": "https://localhost:8080/"
        },
        "id": "8J1CDwcDpomj",
        "outputId": "53010d3f-8ac8-499e-f826-e16678273857"
      },
      "execution_count": 65,
      "outputs": [
        {
          "output_type": "stream",
          "name": "stderr",
          "text": [
            "<ipython-input-65-0a1b0be1c238>:3: DtypeWarning: Columns (18,33) have mixed types. Specify dtype option on import or set low_memory=False.\n",
            "  npidata = pd.read_csv(npidata_url)\n"
          ]
        }
      ]
    },
    {
      "cell_type": "code",
      "source": [
        "# Merge cms data with npidata\n",
        "answer = pd.merge(answer, npidata, how='left', left_on='npi', right_on='NPI')"
      ],
      "metadata": {
        "id": "--dGFUbApqBb"
      },
      "execution_count": 66,
      "outputs": []
    },
    {
      "cell_type": "code",
      "source": [
        "# Create a new column 'State' based on 'Provider Business Mailing Address State Name'\n",
        "answer['State'] = answer['Provider Business Mailing Address State Name'].fillna('XX')"
      ],
      "metadata": {
        "id": "ypzxz40kprea"
      },
      "execution_count": 67,
      "outputs": []
    },
    {
      "cell_type": "code",
      "source": [
        "# Set display options to show all decimal places\n",
        "pd.set_option('display.float_format', lambda x: '{:.10f}'.format(x) if pd.notna(x) else '')\n"
      ],
      "metadata": {
        "id": "3tHR_zFx7P-B"
      },
      "execution_count": 68,
      "outputs": []
    },
    {
      "cell_type": "code",
      "source": [
        "# Create a pivot table with one row for each state and one column for each year\n",
        "pivot_table = answer.pivot_table(values='total_services', index='State', columns='year', aggfunc='sum')"
      ],
      "metadata": {
        "id": "UvOQtrwdps7k"
      },
      "execution_count": 69,
      "outputs": []
    },
    {
      "cell_type": "code",
      "source": [
        "# Assign answer to be the resulting pivot table\n",
        "answer = pivot_table"
      ],
      "metadata": {
        "id": "xsjq0fDZpuj7"
      },
      "execution_count": 70,
      "outputs": []
    },
    {
      "cell_type": "code",
      "source": [
        "# Convert the values to strings for display and verification\n",
        "answer_str = answer.applymap(lambda x: '{:.17f}'.format(x) if pd.notna(x) else 'nan')"
      ],
      "metadata": {
        "id": "x8gqilyj7c6P"
      },
      "execution_count": 71,
      "outputs": []
    },
    {
      "cell_type": "code",
      "source": [
        "# Display values for verification\n",
        "print(answer_str)"
      ],
      "metadata": {
        "colab": {
          "base_uri": "https://localhost:8080/"
        },
        "id": "e_wR6-6E3aVV",
        "outputId": "12447e1b-4848-452c-c84c-0f22df23f503"
      },
      "execution_count": 72,
      "outputs": [
        {
          "output_type": "stream",
          "name": "stdout",
          "text": [
            "year                          2014                         2015  \\\n",
            "State                                                             \n",
            "IL     101393758.40000000596046448  103048716.29999999701976776   \n",
            "MO      48577227.10000000149011612   50808468.00000000000000000   \n",
            "WY       3487240.60000000009313226    3800978.89999999990686774   \n",
            "XX      14938636.40000000037252903   16533705.19999999925494194   \n",
            "\n",
            "year                          2016  \n",
            "State                               \n",
            "IL     105432032.40000000596046448  \n",
            "MO      50854632.10000000149011612  \n",
            "WY       3604487.89999999990686774  \n",
            "XX      16705781.40000000037252903  \n"
          ]
        }
      ]
    },
    {
      "cell_type": "code",
      "source": [
        "# Confirm the shape of the resulting pivot table\n",
        "print(answer.shape)\n",
        "# (4, 3)\n",
        "\n",
        "# Check the sum of total services for the entire pivot table\n",
        "print(answer.sum().sum())\n",
        "\n",
        "\n",
        "# Check the sum of total services for the year 2016\n",
        "print(answer[2016].sum())\n",
        "\n",
        "\n",
        "# Check the sum of total services for the state of Wyoming (WY)\n",
        "print(answer.loc['WY'].sum())\n"
      ],
      "metadata": {
        "colab": {
          "base_uri": "https://localhost:8080/"
        },
        "id": "-To5d9Jsnjii",
        "outputId": "4bc5dd38-5043-4a27-de88-923d79ad6ec0"
      },
      "execution_count": 73,
      "outputs": [
        {
          "output_type": "stream",
          "name": "stdout",
          "text": [
            "(4, 3)\n",
            "519185664.7\n",
            "176596933.8\n",
            "10892707.4\n"
          ]
        }
      ]
    },
    {
      "cell_type": "code",
      "execution_count": 74,
      "metadata": {
        "nbgrader": {
          "grade": true,
          "grade_id": "04-tests",
          "locked": true,
          "points": 5,
          "schema_version": 1,
          "solution": false
        },
        "id": "jMiUBo4BAwph"
      },
      "outputs": [],
      "source": [
        "assert(answer.shape == (4,3))\n",
        "assert(answer.sum().sum() == 519185664.7)\n",
        "assert(answer[2016].sum() == 176596933.8)\n",
        "assert(answer.loc['WY'].sum() == 10892707.4)"
      ]
    },
    {
      "cell_type": "code",
      "execution_count": 75,
      "metadata": {
        "id": "6snD9sOGAwph",
        "colab": {
          "base_uri": "https://localhost:8080/",
          "height": 490
        },
        "outputId": "39baa928-793a-4aef-f057-d4fe13b29dd3"
      },
      "outputs": [
        {
          "output_type": "execute_result",
          "data": {
            "text/plain": [
              "<Axes: xlabel='State'>"
            ]
          },
          "metadata": {},
          "execution_count": 75
        },
        {
          "output_type": "display_data",
          "data": {
            "text/plain": [
              "<Figure size 640x480 with 1 Axes>"
            ],
            "image/png": "[encoded data removed]"
          },
          "metadata": {}
        }
      ],
      "source": [
        "%matplotlib inline\n",
        "answer.plot.bar()"
      ]
    },
    {
      "cell_type": "code",
      "execution_count": null,
      "metadata": {
        "id": "7Y3ctt3sAwph"
      },
      "outputs": [],
      "source": []
    }
  ],
  "metadata": {
    "celltoolbar": "Create Assignment",
    "kernelspec": {
      "display_name": "Python 3",
      "language": "python",
      "name": "python3"
    },
    "language_info": {
      "codemirror_mode": {
        "name": "ipython",
        "version": 3
      },
      "file_extension": ".py",
      "mimetype": "text/x-python",
      "name": "python",
      "nbconvert_exporter": "python",
      "pygments_lexer": "ipython3",
      "version": "3.6.7"
    },
    "colab": {
      "provenance": [],
      "include_colab_link": true
    }
  },
  "nbformat": 4,
  "nbformat_minor": 0
}