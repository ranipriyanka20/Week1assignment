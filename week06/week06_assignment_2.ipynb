{
  "cells": [
    {
      "cell_type": "markdown",
      "metadata": {
        "nbgrader": {
          "grade": false,
          "grade_id": "intro",
          "locked": true,
          "schema_version": 1,
          "solution": false
        },
        "id": "hb0RcrNgMZRt"
      },
      "source": [
        "# Week 6 Exercises\n",
        "\n",
        "_McKinney 6.1_\n",
        "\n",
        "There are multiple ways to solve the problems below.  You can use any one of several approaches.  For example, you can read CSV files using Pandas or the csv module.  Your score won't depend on which modules you choose to use unless explicitly noted below, but your programming style will still matter."
      ]
    },
    {
      "cell_type": "markdown",
      "metadata": {
        "nbgrader": {
          "grade": false,
          "grade_id": "q1-description",
          "locked": true,
          "schema_version": 1,
          "solution": false
        },
        "id": "9M5tQqSaMZRu"
      },
      "source": [
        "### 30.1 List of Allergies\n",
        "\n",
        "In this GitHub repository, there is a file called `allergies.json` that contains a list of patient allergies.  You will need to download this [file from here](https://raw.githubusercontent.com/paulboal/hds5210-2023/main/week06/allergies.json) and then upload it into Google Colab to run these examples. It is taken from sample data provided by the EHR vendor, Epic, here: https://open.epic.com/Clinical/Allergy\n",
        "\n",
        "Take some time to look at the structure of the file.  You can open it directly in Jupyter by clicking the _Home_ icon, then the _from_instructor_ folder, and then the _data_ folder.\n",
        "\n",
        "Within the file, you'll see that it is a dictionary with many items in it.  One of those items is called `entry` and that item is a list of things.  You can tell that because the item name is immediately followed by an opening square bracket, signifying the start of a list.  It's line 11 of the file: `  \"entry\": [`\n",
        "\n",
        "Write a function named `allergy_count(json_file)` that takes as one parameter the name of the JSON file and returns an integer number of entries in that file.  Your function should open the file, read the json into a Python object, and return how many items there are in the list of `entry`s."
      ]
    },
    {
      "cell_type": "code",
      "execution_count": 62,
      "metadata": {
        "id": "Ye5_9fmIMZRv"
      },
      "outputs": [],
      "source": [
        "import json\n",
        "ALLERGIES_FILE=\"/allergies.json\"\n",
        "\"\"\" jason file will be copied to the ALLERGIES_FILE which will be used in the code\"\"\""
      ]
    },
    {
      "cell_type": "code",
      "execution_count": 89,
      "metadata": {
        "nbgrader": {
          "grade": false,
          "grade_id": "q1-answer",
          "locked": false,
          "schema_version": 1,
          "solution": true
        },
        "id": "n4uNEfUPMZRv",
        "outputId": "4be0049a-0228-4a7c-b8d1-e379b4a4f3d9",
        "colab": {
          "base_uri": "https://localhost:8080/"
        }
      },
      "outputs": [
        {
          "output_type": "execute_result",
          "data": {
            "text/plain": [
              "4"
            ]
          },
          "metadata": {},
          "execution_count": 89
        }
      ],
      "source": [
        "from typing_extensions import Required\n",
        "# Put your solution here\n",
        "import json\n",
        "def allergy_count(json_file):\n",
        "    try:\n",
        "        \"\"\"In this try block json will be loaded as the read only file\n",
        "           And the file will be loaded to the data required\"\"\"\n",
        "        with open(json_file, 'r') as file:\n",
        "            data_required = json.load(file)\n",
        "            \"\"\"We have to give the entry which is a list of things and\n",
        "               it will return lengthnof the data that is required\"\"\"\n",
        "            if isinstance(data_required.get(\"entry\"), list):\n",
        "                return len(data_required[\"entry\"])\n",
        "                \"\"\"If the file does not contain an entry it\n",
        "                  will return the it does not contain the list of entries\"\"\"\n",
        "            else:\n",
        "                print(\"Error: The JSON file does not contain a list of entries.\")\n",
        "                return 0\n",
        "                \"\"\"If we does not the load the file properly\n",
        "                it will raise the error as file was not found\"\"\"\n",
        "    except FileNotFoundError:\n",
        "        print(f\"Error: File '{json_file}' not found.\")\n",
        "        return 0\n",
        "    except json.JSONDecodeError:\n",
        "        print(f\"Error: Unable to decode JSON in '{json_file}'.\")\n",
        "        return 0\n",
        "allergy_count(ALLERGIES_FILE)"
      ]
    },
    {
      "cell_type": "code",
      "execution_count": 90,
      "metadata": {
        "nbgrader": {
          "grade": true,
          "grade_id": "q1-tests",
          "locked": true,
          "points": 5,
          "schema_version": 1,
          "solution": false
        },
        "cellView": "code",
        "id": "fRATDzaSMZRw"
      },
      "outputs": [],
      "source": [
        "# @title Default title text\n",
        "assert type(allergy_count(ALLERGIES_FILE)) == int\n",
        "assert allergy_count(ALLERGIES_FILE) == 4"
      ]
    },
    {
      "cell_type": "code",
      "execution_count": 91,
      "metadata": {
        "id": "rZqBSDnCMZRw",
        "outputId": "ec304421-2b7e-4605-88fa-ee74c7728ecf",
        "colab": {
          "base_uri": "https://localhost:8080/"
        }
      },
      "outputs": [
        {
          "output_type": "execute_result",
          "data": {
            "text/plain": [
              "4"
            ]
          },
          "metadata": {},
          "execution_count": 91
        }
      ],
      "source": [
        "allergy_count(ALLERGIES_FILE)"
      ]
    },
    {
      "cell_type": "markdown",
      "metadata": {
        "id": "1MapIRjuMZRw"
      },
      "source": [
        "### 30.2 Number of Patients\n",
        "\n",
        "If you dig a little bit deaper into this list of allergies, you'll see that each result has a patient associated with it.  Create a funcation called `patient_count(json_file)` that will count how many unique patients we have in this JSON structure.  "
      ]
    },
    {
      "cell_type": "code",
      "source": [
        "import json\n",
        "ALLERGIES_FILE=\"allergies.json\""
      ],
      "metadata": {
        "id": "TpF_whb2ZPNj"
      },
      "execution_count": 92,
      "outputs": []
    },
    {
      "cell_type": "code",
      "execution_count": 95,
      "metadata": {
        "id": "V_ZQILJ9MZRw",
        "outputId": "f6f651b2-af4a-41e1-a5b3-666b1cc5a39b",
        "colab": {
          "base_uri": "https://localhost:8080/"
        }
      },
      "outputs": [
        {
          "output_type": "execute_result",
          "data": {
            "text/plain": [
              "2"
            ]
          },
          "metadata": {},
          "execution_count": 95
        }
      ],
      "source": [
        "# Put your solution here\n",
        "import json\n",
        "ALLERGIES_FILE=\"/allergies.json\"\n",
        "import json\n",
        "def patient_count(json_file):\n",
        "    try:\n",
        "      \"\"\"In this try block json will be loaded as the read only file\n",
        "           And the file will be loaded to the data required\"\"\"\n",
        "      with open(json_file, 'r') as file:\n",
        "            data = json.load(file)\n",
        "            entries = data.get(\"entry\", [])\n",
        "            \"\"\"By writing this statement entries = data.get(\"entry\", [])\n",
        "            it will return the list of unique patients in the allergies.json\"\"\"\n",
        "            unique_patients = set()\n",
        "            for entry in entries:\n",
        "                \"\"\"In this loop we will get the resource and from that we will get details of the patient\n",
        "                   and from that we will dispaly the patient details\"\"\"\n",
        "                patient_display = entry.get(\"resource\", {}).get(\"patient\", {}).get(\"display\")\n",
        "                if patient_display:\n",
        "                    unique_patients.add(patient_display)\n",
        "                \"\"\"And finally it will return the length of unique patients list\"\"\"\n",
        "            return len(unique_patients)\n",
        "            \"\"\"If we does not the load the file properly\n",
        "                it will raise the error as file was not found\"\"\"\n",
        "    except FileNotFoundError:\n",
        "        print(f\"Error: File '{json_file}' not found.\")\n",
        "        return 0\n",
        "    except json.JSONDecodeError:\n",
        "        print(f\"Error: Unable to decode JSON in '{json_file}'.\")\n",
        "        return 0\n",
        "patient_count(ALLERGIES_FILE)"
      ]
    },
    {
      "cell_type": "code",
      "execution_count": 74,
      "metadata": {
        "id": "iG6u5l4BMZRx",
        "outputId": "81aed8b7-3b9a-492a-9981-7ebb62855e4f",
        "colab": {
          "base_uri": "https://localhost:8080/"
        }
      },
      "outputs": [
        {
          "output_type": "execute_result",
          "data": {
            "text/plain": [
              "2"
            ]
          },
          "metadata": {},
          "execution_count": 74
        }
      ],
      "source": [
        "patient_count(ALLERGIES_FILE)"
      ]
    },
    {
      "cell_type": "code",
      "execution_count": 98,
      "metadata": {
        "id": "QvQGULzrMZRx"
      },
      "outputs": [],
      "source": [
        "assert type(patient_count(ALLERGIES_FILE)) == int\n",
        "assert patient_count(ALLERGIES_FILE) == 2"
      ]
    },
    {
      "cell_type": "markdown",
      "metadata": {
        "id": "W0DW-aRyMZRx"
      },
      "source": [
        "### 30.3 How Many Allergies per Patient\n",
        "\n",
        "Although each entry is a separate allergy, several of them are for the same patient.  Write a function called `allergy_per_patient(json_file)` that counts up how many allergies each patient has.\n"
      ]
    },
    {
      "cell_type": "code",
      "source": [
        "import json\n",
        "ALLERGIES_FILE=\"/allergies.json\""
      ],
      "metadata": {
        "id": "JbsCip_LZluI"
      },
      "execution_count": 76,
      "outputs": []
    },
    {
      "cell_type": "code",
      "execution_count": 77,
      "metadata": {
        "id": "L_ne5WZHMZRy"
      },
      "outputs": [],
      "source": [
        "# Put your solution here\n",
        "def allergy_per_patient(ALLERGIES_FILE):\n",
        "    allergies_by_patient = {}\n",
        "    with open(ALLERGIES_FILE, 'r') as file:\n",
        "        \"\"\"In this try block json will be loaded as the read only file\n",
        "           And the file will be loaded to the data required\"\"\"\n",
        "        data = json.load(file)\n",
        "        for entry in data.get('entry', []):\n",
        "            \"\"\"From this we can get resources that are related to the patiets\"\"\"\n",
        "            resource = entry.get('resource', {})\n",
        "            patient = resource.get('patient', None)\n",
        "            if patient is not None:\n",
        "                # Extract the patient name from the dictionary\n",
        "                patient_name = patient.get('display', None)\n",
        "                if patient_name:\n",
        "                    \"\"\"In this we will get deatils of the allergies that a patient had\n",
        "                        an dit wil return the data\"\"\"\n",
        "                    if patient_name in allergies_by_patient:\n",
        "                        allergies_by_patient[patient_name] += 1\n",
        "                    else:\n",
        "                        allergies_by_patient[patient_name] = 1\n",
        "    return allergies_by_patient"
      ]
    },
    {
      "cell_type": "code",
      "execution_count": 78,
      "metadata": {
        "id": "WSirdTq_MZRy",
        "outputId": "ba6bb74e-6a5d-40a3-f344-d347d7edf68d",
        "colab": {
          "base_uri": "https://localhost:8080/"
        }
      },
      "outputs": [
        {
          "output_type": "execute_result",
          "data": {
            "text/plain": [
              "{'Jason Argonaut': 3, 'Paul Boal': 1}"
            ]
          },
          "metadata": {},
          "execution_count": 78
        }
      ],
      "source": [
        "allergy_per_patient(ALLERGIES_FILE)"
      ]
    },
    {
      "cell_type": "code",
      "execution_count": 79,
      "metadata": {
        "id": "uguOK_vJMZRy"
      },
      "outputs": [],
      "source": [
        "assert type(allergy_per_patient(ALLERGIES_FILE)) == dict\n",
        "assert allergy_per_patient(ALLERGIES_FILE) == {'Paul Boal': 1, 'Jason Argonaut': 3}"
      ]
    },
    {
      "cell_type": "markdown",
      "metadata": {
        "nbgrader": {
          "grade": false,
          "grade_id": "q2-question",
          "locked": true,
          "schema_version": 1,
          "solution": false
        },
        "id": "_mchk736MZRy"
      },
      "source": [
        "### 30.4 Patient Allergies and Reaction\n",
        "\n",
        "You'll see in the file that each of the items in the `entry` list have several other attributes including a patient name, substance text representation, and a reaction manifestation.  Create a function named `allergy_list(json_file)` that will create an output list that has patient name, allergy, and reaction for each `entry`.  The actual result you should get will be:\n",
        "\n",
        "```python\n",
        "[['Jason Argonaut', 'PENICILLIN G', 'Hives'],\n",
        " ['Paul Boal', 'PENICILLIN G', 'Bruising'],\n",
        " ['Jason Argonaut', 'SHELLFISH-DERIVED PRODUCTS', 'Itching'],\n",
        " ['Jason Argonaut', 'STRAWBERRY', 'Anaphylaxis']]\n",
        "```\n",
        "\n",
        "You'll notice that the reaction and the manifestation of that action are lists.  You only need to capture the first reaction and the first manifestation of the action.  That is, if there is a list of things, just output the first one."
      ]
    },
    {
      "cell_type": "code",
      "execution_count": 80,
      "metadata": {
        "nbgrader": {
          "grade": false,
          "grade_id": "q2-answer",
          "locked": false,
          "schema_version": 1,
          "solution": true
        },
        "id": "QGgh2U9aMZRz"
      },
      "outputs": [],
      "source": [
        "# Put your solution here\n",
        "import json\n",
        "\n",
        "def allergy_list(json_file):\n",
        "    try:\n",
        "        \"\"\"In this try block json will be loaded as the read only file\n",
        "           And the file will be loaded to the data required\"\"\"\n",
        "        with open(json_file, 'r') as file:\n",
        "            data = json.load(file)\n",
        "            entries = data.get(\"entry\", [])\n",
        "            \"\"\"In this we will get the entries of the patients\n",
        "               for which we have to create the data entry\"\"\"\n",
        "            output_list = []\n",
        "            for entry in entries:\n",
        "                \"\"\" In thi loop it will return thempatient name, substance text,representation\n",
        "                    and a reaction manifestation for the each and every patient\"\"\"\n",
        "                patient_name = entry.get(\"resource\", {}).get(\"patient\", {}).get(\"display\")\n",
        "                substance_text = entry.get(\"resource\", {}).get(\"substance\", {}).get(\"text\")\n",
        "                reaction_text = entry.get(\"resource\", {}).get(\"reaction\", [{}])[0].get(\"manifestation\", [{}])[0].get(\"text\")\n",
        "                \"\"\"In this it will append all the details to the output list of th epatients\"\"\"\n",
        "                if patient_name and substance_text and reaction_text:\n",
        "                    output_list.append([patient_name, substance_text, reaction_text])\n",
        "\n",
        "            return output_list\n",
        "            \"\"\"If we does not the load the file properly\n",
        "                it will raise the error as file was not found\"\"\"\n",
        "    except FileNotFoundError:\n",
        "        print(f\"Error: File '{json_file}' not found.\")\n",
        "        return []\n",
        "    except json.JSONDecodeError:\n",
        "        print(f\"Error: Unable to decode JSON in '{json_file}'.\")\n",
        "        return []\n"
      ]
    },
    {
      "cell_type": "code",
      "execution_count": 81,
      "metadata": {
        "id": "Lu2aLcKuMZRz",
        "outputId": "3aa1e28f-3668-407f-a8b5-946bb1340883",
        "colab": {
          "base_uri": "https://localhost:8080/"
        }
      },
      "outputs": [
        {
          "output_type": "execute_result",
          "data": {
            "text/plain": [
              "[['Jason Argonaut', 'PENICILLIN G', 'Hives'],\n",
              " ['Jason Argonaut', 'SHELLFISH-DERIVED PRODUCTS', 'Itching'],\n",
              " ['Jason Argonaut', 'STRAWBERRY', 'Anaphylaxis'],\n",
              " ['Paul Boal', 'PENICILLIN G', 'Bruising']]"
            ]
          },
          "metadata": {},
          "execution_count": 81
        }
      ],
      "source": [
        "allergy_list(ALLERGIES_FILE)"
      ]
    },
    {
      "cell_type": "code",
      "execution_count": 82,
      "metadata": {
        "nbgrader": {
          "grade": true,
          "grade_id": "q2-tests",
          "locked": true,
          "points": 10,
          "schema_version": 1,
          "solution": false
        },
        "id": "qhZW5KVlMZRz"
      },
      "outputs": [],
      "source": [
        "assert allergy_list(ALLERGIES_FILE) == [['Jason Argonaut', 'PENICILLIN G', 'Hives'],\n",
        " ['Jason Argonaut', 'SHELLFISH-DERIVED PRODUCTS', 'Itching'],\n",
        " ['Jason Argonaut', 'STRAWBERRY', 'Anaphylaxis'],\n",
        " ['Paul Boal', 'PENICILLIN G', 'Bruising']]\n"
      ]
    },
    {
      "cell_type": "markdown",
      "metadata": {
        "nbgrader": {
          "grade": false,
          "grade_id": "q3-question",
          "locked": true,
          "schema_version": 1,
          "solution": false
        },
        "id": "I85qCeWVMZRz"
      },
      "source": [
        "### 30.5 Allergy Reaction\n",
        "\n",
        "Write a function called `allergy_reaction(json_file,patient,substance)` that takes three parameter and returns the reaction that will happen if the patient takes the specified substance.  You can solve this, in part, by calling your `allergy_list` function inside your new `allergy_reaction` function.\n",
        "\n",
        "If the substance is not found in the allergy list, the function should return None."
      ]
    },
    {
      "cell_type": "code",
      "execution_count": 99,
      "metadata": {
        "nbgrader": {
          "grade": false,
          "grade_id": "q3-answer",
          "locked": false,
          "schema_version": 1,
          "solution": true
        },
        "id": "nZMm_CSSMZRz"
      },
      "outputs": [],
      "source": [
        "# Put your solution here\n",
        "def allergy_reaction(json_file, patient, substance):\n",
        "    allergy_entries = allergy_list(json_file)\n",
        "    \"\"\" In this allergy_reaction function we will get the reaction when we\n",
        "        eneter the details of the patient with their name and the substance\"\"\"\n",
        "    for entry in allergy_entries:\n",
        "        entry_patient, entry_substance, reaction = entry\n",
        "        if entry_patient == patient and entry_substance == substance:\n",
        "            return reaction\n",
        "\n",
        "    return None\n"
      ]
    },
    {
      "cell_type": "code",
      "execution_count": 100,
      "metadata": {
        "id": "Iihhf2E3MZRz",
        "outputId": "b8f1a69a-aaea-414f-99d4-53bb4788d714",
        "colab": {
          "base_uri": "https://localhost:8080/",
          "height": 36
        }
      },
      "outputs": [
        {
          "output_type": "execute_result",
          "data": {
            "text/plain": [
              "'Hives'"
            ],
            "application/vnd.google.colaboratory.intrinsic+json": {
              "type": "string"
            }
          },
          "metadata": {},
          "execution_count": 100
        }
      ],
      "source": [
        "allergy_reaction(ALLERGIES_FILE, 'Jason Argonaut', 'PENICILLIN G')"
      ]
    },
    {
      "cell_type": "code",
      "execution_count": 101,
      "metadata": {
        "nbgrader": {
          "grade": true,
          "grade_id": "q3-tests",
          "locked": true,
          "points": 5,
          "schema_version": 1,
          "solution": false
        },
        "id": "3Qq_iXDoMZRz"
      },
      "outputs": [],
      "source": [
        "assert allergy_reaction(ALLERGIES_FILE, 'Jason Argonaut', 'PENICILLIN G') == 'Hives'\n",
        "assert allergy_reaction(ALLERGIES_FILE, 'Jason Argonaut', 'SHELLFISH-DERIVED PRODUCTS') == 'Itching'\n",
        "assert allergy_reaction(ALLERGIES_FILE, 'Jason Argonaut', 'STRAWBERRY') == 'Anaphylaxis'\n",
        "assert allergy_reaction(ALLERGIES_FILE, 'Jason Argonaut', 'PENICILLIN') == None\n",
        "assert allergy_reaction(ALLERGIES_FILE, 'Paul Boal', 'PENICILLIN G') == 'Bruising'"
      ]
    },
    {
      "cell_type": "code",
      "source": [
        "from google.colab import drive\n",
        "drive.mount('/content/drive')"
      ],
      "metadata": {
        "id": "yjJQfIcOhlmo",
        "outputId": "564b93ac-e24d-44b0-857e-1b26d0836f54",
        "colab": {
          "base_uri": "https://localhost:8080/"
        }
      },
      "execution_count": 103,
      "outputs": [
        {
          "output_type": "stream",
          "name": "stdout",
          "text": [
            "Mounted at /content/drive\n"
          ]
        }
      ]
    },
    {
      "cell_type": "markdown",
      "metadata": {
        "id": "mtwAftB0MZRz"
      },
      "source": [
        "---\n",
        "\n",
        "## Check your work above\n",
        "\n",
        "If you didn't get them all correct, take a few minutes to think through those that aren't correct.\n",
        "\n",
        "\n",
        "## Submitting Your Work\n",
        "\n",
        "In order to submit your work, you'll need to save this notebook file back to GitHub.  To do that in Google Colab:\n",
        "1. File -> Save a Copy in GitHub\n",
        "2. Make sure your HDS5210 repository is selected\n",
        "3. Make sure the file name includes the week number like this: `week06/week06_assignment_2.ipynb`\n",
        "4. Add a commit message that means something\n",
        "\n",
        "**Be sure week names are lowercase and use a two digit week number!!**\n",
        "\n",
        "**Be sure you use the same file name provided by the instructor!!**\n",
        "\n"
      ]
    }
  ],
  "metadata": {
    "celltoolbar": "Create Assignment",
    "kernelspec": {
      "display_name": "Python 3",
      "language": "python",
      "name": "python3"
    },
    "language_info": {
      "codemirror_mode": {
        "name": "ipython",
        "version": 3
      },
      "file_extension": ".py",
      "mimetype": "text/x-python",
      "name": "python",
      "nbconvert_exporter": "python",
      "pygments_lexer": "ipython3",
      "version": "3.9.16"
    },
    "colab": {
      "provenance": []
    }
  },
  "nbformat": 4,
  "nbformat_minor": 0
}